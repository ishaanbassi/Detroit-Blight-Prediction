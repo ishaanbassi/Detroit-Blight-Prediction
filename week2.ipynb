{
 "cells": [
  {
   "cell_type": "markdown",
   "metadata": {},
   "source": [
    "\n",
    "# Blight Fight Capstone Project\n",
    "\n",
    "\"Urban blight refers to the deterioration and decay of buildings and older areas of large cities, due to neglect, crime, or lack of economic support. This is a typical sight in most US cities, and in many cities throughout the world. As a city gets older, some buildings or properties are not maintained and become run-down, abandoned or condemned.\" [1] \n",
    "\n",
    "Many cities are actively trying to predict which properties are likely to become officially classified as blighted ahead of time. Predicting which properties are likely to be classified as blight can help cities take preventative action: a targeted demolition or renovation can prevent the spread of urban blight and facilitate economic revitalization of often distressed areas. The city of Detroit is one city interested in taking these measures, and city planners are actively pursuing blight prediction models. The city of Detroit also, like many cities, maintains an open data portal where data is published, often in live streams, to empower outside analysts to assist in problem solving and application construction. \n",
    "\n",
    "In this assignment, you will work with real data to help urban planners predict blight.  This is a real-world problem: the data will not be perfectly clean, the questions will not be perfectly unambiguous, and your results will not be perfectly reliable. But your work has the potential  to help improve one city’s economic future, and perhaps lead to a number of other cities following suit.  And, we think you’ll learn a lot!\n",
    "\n",
    "## Week 1: Background and Preparation\n",
    "\n",
    "### Get the Data\n",
    "\n",
    "The data for the project is available in the [github repository](https://github.com/uwescience/datasci_course_materials/capstone/blight/data).\n",
    "\n",
    "Additional data sets may be used in step 5. Up-to-date data can be downloaded or accessed via API from: data.detroitmi.gov\n",
    "\n",
    "There are four files:\n",
    "* `detroit-blight-violations.csv` : Each record is a blight violation incident.\n",
    "* `detroit-demolition-permits.tsv` : Each record represents a permit for a demolition.\n",
    "* `detroit-311.csv` : Each record represents a 311 call, typically a complaint\n",
    "* `detroit-crime.csv` : Each record represents a criminial incident.\n",
    "\n",
    "For each incident type, the location is included as a latitude, longtiude pair and various timestamps are included, typically in the format mm/dd/yyyy hh:mm:ss PM, for example 03/11/2015 04:23:11 PM.\n",
    "\n",
    "### Understand the Domain\n",
    "\n",
    "Typically you will want to interact closely with domain expert stakeholders, but in some cases you may be asked to brush up on a new domain on your own.\n",
    "\n",
    "Find some articles on blight and abandonment, the problems they cause, actions typically taken by city planners, prior approaches to prediction, and any equity or ethics considerations.\n",
    "\n",
    "Some articles you may find useful:\n",
    "* [Spatial distribution of abandonment](readings/morckel_spatial_characteristics_of_housing_abandonment.pdf)\n",
    "* [Early statistical approaches to predicting blight](readings/Hillier_et_al-2003-Journal_of_Urban_Affairs.pdf)\n",
    "* [The relationship between abandonment and crime](readings/RALEIGH_et_al-2015-Journal_of_Urban_Affairs.pdf)\n",
    "* [Detroit demolishes its ruins: 'The capitalists will take care of the rest'](http://www.theguardian.com/money/2014/sep/28/detroit-demolish-ruins-capitalists-abandoned-buildings-plan)\n",
    "\n",
    "### Discussion Prompt: \n",
    "\n",
    "Share your background, interest, and goals for this Capstone Project, and any questions or considerations from your domain research.  How important is this problem?  How accurate do you think the models will be?  What kinds of concerns might there be around equity?  For example, in some cities, 311 calls may be rare in poor neighborhoods, so a model that predicts abandonment that uses 311 calls may favor certain neighborhoods over others. \n",
    "\n",
    "\n",
    "## Week 2. Create a list of \"buildings\" from a list of geo-located incidents\n",
    "\n",
    "All data files consist of incident data: each record is an incident which occurred at a particular time and place. \n",
    "\n",
    "The location of each incident is provided as geo-coordinates: a (latitude, longitude) pair.  The project involves classifying the blight risk of specific buildings, so a first step is to parse the geo coordinate data and use these coordinates to try to cluster all incidents that occurred, ideally, at the same address. Note that the data is messy!  You’ll need to be creative to try to assemble your best guess of what constitutes a building. \n",
    "\n",
    "Plan to spend some time visualizing the incident data to gain an intuition about the problem. In particular, consider creating maps using, say, [Google maps](https://www.google.com/maps) for [displaying a specific lat/lon location](https://www.google.com/webhp?sourceid=chrome-instant&ion=1&espv=2&ie=UTF-8#q=(42.36318237000006, -83.09167672099994)) or [CartoDB](https://cartodb.com/).  You may of course also want to create non-spatial visualizations using, say, [Google Fusion Tables](https://support.google.com/fusiontables/answer/2571232) or [Tableau](http://www.tableau.com/), or libraries such as [vega-lite](https://github.com/vega/vega-lite), [bokeh](http://bokeh.pydata.org/), [matplotlib](http://matplotlib.org/), or R.  Posting your visualizations online and discussing them in the forum is encouraged!!!\n",
    "\n",
    "### Milestone:\n",
    "1. Create a file where each record represents a building. In most approaches, each building will be associated with some spatial extent so that you can determine which incidents will be assigned to it.  One way to define a spatial extent to encode a rectangle centered on the building, such that your records are of the form building_id, lower_left_latitude, lower_left_longitude, upper_right_latitude, upper_right_longitude. You might also use a circle by associating each building with a center and a radius.  Whatever you choose, you may need to consider how to handle incidents that fall outside of any bulding extent or incidents that fall within multiple building extents.  \n",
    "\n",
    "2. Write a function that, given a latitude and longitude, returns one or more buildings associated with that location. This function will use the information in the building file you created.\n",
    "\n",
    "### Assignment: Answer the following questions and submit for peer review. Your peer rviewers will offer suggestions and feedback.\n",
    "\n",
    "1. What tools are you using?  Are you using any special libraries to work with spatial data?  How are you visualizing the data?\n",
    "\n",
    "2. What outliers are you noticing? Consider what might be causing these outliers, and how you might specially address them.\n",
    "\n",
    "3. How did you use the geocoordinates to define a \"building\"? How might you need to change your approach if you were working with 100x the number of incidents?\n",
    "\n",
    "4. How might your solution change if conditions of the problem change?  Would you face scalability issues if you were working with 100x the number of incidents?  Would high-density areas like Manhattan in New York City make differentiation between buildings more difficult?  Are there heuristics used about how buildings tend to be arranged geometrically that may be violated in certain places?  None of these issues are necessarily a problem, but the more general the solution, the more likely it is to be used in additional cities.\n",
    "\n",
    "5. Did you treat all incident types the same in determining whether to include them in the temporal history of a building? If not, why not?\n",
    "\n",
    "## Milestone 3: Construct a training dataset\n",
    "\n",
    "To train a supervised model, you need ground truth labels.  That is, you need a set of buildings that are pre-labeled as either blighted or not blighted.  And you need about as many positive examples as you do negative examples, or your model will not perform well.  There will be many, many more non-blighted buildings than blighted, so you will need to randomly select non-blighted buildings to include, and your model might be sensitive to this sampling.\n",
    "\n",
    "For Milestone 2, you used the set of incidents across all files to create a list of buildings.  \n",
    "Each record in the file detroit-demolition-permits.tsv represents a permit issued in the city of Detroit. You may assume a building is blighted if at least one permit incident marked 'Dismantle' can be assigned to that building.\n",
    "\n",
    "You will be ignoring all 'Dismantle' incidents when evaluating your model. (Why?)\n",
    "\n",
    "### Milestone: \n",
    "1. Produce a file where each record is of the form building_id, label, where label is either blighted or not_blighted. Ensure that about 50% of the buildings are blighted and 50% are not.  We have not created the features yet, so this file is not useful, but this step will ensure you can extract the labels, and you will follow a similar pattern for the features.\n",
    "\n",
    "### Assignment: Answer the following questions and submit for peer review.\n",
    "\n",
    "1. Why is it in important to ignore the 'Dismantle' incidents during evaluation?\n",
    " \n",
    "2. Could our labels be incorrect?  If you were paid to pursue this project, how might you double check that your labels were accurately reflecting ground truth?\n",
    "\n",
    "3. How many blighted buildings did you come up with?\n",
    "\n",
    "## Week 4: Train and evaluate a simple model\n",
    "\n",
    "You will build a tirival model based on a single feature: the number of records in `detroit-blight-violations.csv` associated with that building.\n",
    "\n",
    "For each record in `detroit-blight-violations.csv`, find the corresponding building and increment a counter.\n",
    "\n",
    "\n",
    "### Milestone: \n",
    "\n",
    "Using scikit-learn in python (or R, if you wish), write a program to train a model and evaluate it using 5-fold cross validation.  Evaluate your model using its accuracy. Use regression, a decision tree, or any other appropriate model.  \n",
    "\n",
    "\n",
    "### Assignment: Answer the following questions an submit for peer review:\n",
    "\n",
    "1. What method did you use to learn the relationship?\n",
    "\n",
    "2. Does this model seem to work?  How well?\n",
    "\n",
    "3. What other properties of a building might help predict blight?  \n",
    "\n",
    "4. Is accuracy the only way to evaluate the model?\n",
    "\n",
    "\n",
    "## Week 5: Feature Engineering\n",
    "\n",
    "For each building, you need to extract a richer set of features from the incident data and construct a feature vector.  The feature vector will include at least two columns: the building_id and the label.  You will create many additional columns that the model will use to predict the label.  These features may be numeric, text-derived, or otherwise computed.  Feature engineering is what makes or breaks analytics projects, not the method.  \n",
    "\n",
    "Your results will be highly dependent on the features you select -- you should expect to return to this step as you iterate.\n",
    "\n",
    "\n",
    "### Assignment: Answer the following questions and submit for peer review.\n",
    "\n",
    "1. What features did you use? How did you select them? Did you leverage a corpus wide normalization? If so, why?\n",
    "\n",
    "2. What types of features would you pursue if you had more time? Why do you think these features might improve the accuracy of your model?\n",
    "\n",
    "\n",
    "## Week 6: Extensions\n",
    "\n",
    "Using data.detroitmi.gov or other inline sources, identify additional datasets from which you can derive additional features that may help you improve your model.\n",
    "\n",
    "### Assignment: Submit a brief report describing your features, your method, and the accuracy of the model.  If you believe your solution works especially well and would like it to be reviewed by stakeholders in the City of Detroit and Socrata, upload your code to a public github repository and provide the url here.\n",
    "\n",
    "\n"
   ]
  },
  {
   "cell_type": "code",
   "execution_count": 1,
   "metadata": {},
   "outputs": [],
   "source": [
    "import matplotlib.pyplot as plt\n",
    "import pandas as pd\n",
    "import numpy as np\n",
    "import seaborn as sns\n",
    "from geopy.geocoders import Nominatim\n",
    "import geopy.geocoders\n",
    "# from sklearn.cluster import\n",
    "import math\n",
    "from geopy.extra.rate_limiter import RateLimiter\n",
    "from sklearn.cluster import AgglomerativeClustering\n",
    "from sklearn.metrics.pairwise import pairwise_distances\n",
    "from tqdm import tqdm_notebook as tqdm\n",
    "import pickle"
   ]
  },
  {
   "cell_type": "code",
   "execution_count": 2,
   "metadata": {},
   "outputs": [
    {
     "name": "stderr",
     "output_type": "stream",
     "text": [
      "/home/ishaan/ishaan/lib/python3.6/site-packages/IPython/core/interactiveshell.py:3049: DtypeWarning: Columns (6,10,11,12) have mixed types. Specify dtype option on import or set low_memory=False.\n",
      "  interactivity=interactivity, compiler=compiler, result=result)\n",
      "/home/ishaan/ishaan/lib/python3.6/site-packages/IPython/core/interactiveshell.py:3049: DtypeWarning: Columns (2) have mixed types. Specify dtype option on import or set low_memory=False.\n",
      "  interactivity=interactivity, compiler=compiler, result=result)\n"
     ]
    }
   ],
   "source": [
    "violations = pd.read_csv('data/detroit-blight-violations.csv')\n",
    "permits = pd.read_csv('data/detroit-demolition-permits.tsv',sep='\\t')\n",
    "complaints = pd.read_csv('data/detroit-311.csv')\n",
    "crimes = pd.read_csv('data/detroit-crime.csv')"
   ]
  },
  {
   "cell_type": "code",
   "execution_count": 3,
   "metadata": {},
   "outputs": [
    {
     "data": {
      "text/html": [
       "<div>\n",
       "<style scoped>\n",
       "    .dataframe tbody tr th:only-of-type {\n",
       "        vertical-align: middle;\n",
       "    }\n",
       "\n",
       "    .dataframe tbody tr th {\n",
       "        vertical-align: top;\n",
       "    }\n",
       "\n",
       "    .dataframe thead th {\n",
       "        text-align: right;\n",
       "    }\n",
       "</style>\n",
       "<table border=\"1\" class=\"dataframe\">\n",
       "  <thead>\n",
       "    <tr style=\"text-align: right;\">\n",
       "      <th></th>\n",
       "      <th>TicketID</th>\n",
       "      <th>TicketNumber</th>\n",
       "      <th>AgencyName</th>\n",
       "      <th>ViolName</th>\n",
       "      <th>ViolationStreetNumber</th>\n",
       "      <th>ViolationStreetName</th>\n",
       "      <th>MailingStreetNumber</th>\n",
       "      <th>MailingStreetName</th>\n",
       "      <th>MailingCity</th>\n",
       "      <th>MailingState</th>\n",
       "      <th>...</th>\n",
       "      <th>AdminFee</th>\n",
       "      <th>LateFee</th>\n",
       "      <th>StateFee</th>\n",
       "      <th>CleanUpCost</th>\n",
       "      <th>JudgmentAmt</th>\n",
       "      <th>PaymentStatus</th>\n",
       "      <th>Void</th>\n",
       "      <th>ViolationCategory</th>\n",
       "      <th>ViolationAddress</th>\n",
       "      <th>MailingAddress</th>\n",
       "    </tr>\n",
       "  </thead>\n",
       "  <tbody>\n",
       "    <tr>\n",
       "      <th>0</th>\n",
       "      <td>26288</td>\n",
       "      <td>05000001DAH</td>\n",
       "      <td>Department of Public Works</td>\n",
       "      <td>Group, LLC, Grand Holding</td>\n",
       "      <td>2566</td>\n",
       "      <td>GRAND BLVD</td>\n",
       "      <td>743</td>\n",
       "      <td>Beaubien, Ste. 201</td>\n",
       "      <td>Detroit</td>\n",
       "      <td>MI</td>\n",
       "      <td>...</td>\n",
       "      <td>$20.00</td>\n",
       "      <td>$150.00</td>\n",
       "      <td>$10.00</td>\n",
       "      <td>$0.00</td>\n",
       "      <td>$1680.00</td>\n",
       "      <td>PAID IN FULL</td>\n",
       "      <td>0.0</td>\n",
       "      <td>0</td>\n",
       "      <td>2566 GRAND BLVD\\nDetroit, MI\\n(42.363182370000...</td>\n",
       "      <td>743 Beaubien\\nDetroit, MI 48226\\n(42.333730630...</td>\n",
       "    </tr>\n",
       "    <tr>\n",
       "      <th>1</th>\n",
       "      <td>19800</td>\n",
       "      <td>05000025DAH</td>\n",
       "      <td>Department of Public Works</td>\n",
       "      <td>JACKSON, RAECHELLE</td>\n",
       "      <td>19014</td>\n",
       "      <td>ASHTON</td>\n",
       "      <td>20501</td>\n",
       "      <td>HEYDEN</td>\n",
       "      <td>DETROIT</td>\n",
       "      <td>MI</td>\n",
       "      <td>...</td>\n",
       "      <td>$20.00</td>\n",
       "      <td>$10.00</td>\n",
       "      <td>$10.00</td>\n",
       "      <td>$0.00</td>\n",
       "      <td>$140.00</td>\n",
       "      <td>NO PAYMENT APPLIED</td>\n",
       "      <td>0.0</td>\n",
       "      <td>0</td>\n",
       "      <td>19014 ASHTON\\nDetroit, MI\\n(42.429390762000025...</td>\n",
       "      <td>20501 HEYDEN\\nDETROIT, MI 48219\\n(42.442177633...</td>\n",
       "    </tr>\n",
       "    <tr>\n",
       "      <th>2</th>\n",
       "      <td>19804</td>\n",
       "      <td>05000026DAH</td>\n",
       "      <td>Department of Public Works</td>\n",
       "      <td>TALTON, CAROL ANN</td>\n",
       "      <td>18735</td>\n",
       "      <td>STAHELIN</td>\n",
       "      <td>18735</td>\n",
       "      <td>STAHELI N</td>\n",
       "      <td>DETROIT</td>\n",
       "      <td>MI</td>\n",
       "      <td>...</td>\n",
       "      <td>$20.00</td>\n",
       "      <td>$10.00</td>\n",
       "      <td>$10.00</td>\n",
       "      <td>$0.00</td>\n",
       "      <td>$140.00</td>\n",
       "      <td>PAID IN FULL</td>\n",
       "      <td>0.0</td>\n",
       "      <td>0</td>\n",
       "      <td>18735 STAHELIN\\nDetroit, MI\\n(42.4287074590000...</td>\n",
       "      <td>18735 STAHELI N\\nDETROIT, MI 48219\\n(42.428707...</td>\n",
       "    </tr>\n",
       "    <tr>\n",
       "      <th>3</th>\n",
       "      <td>20208</td>\n",
       "      <td>05000027DAH</td>\n",
       "      <td>Department of Public Works</td>\n",
       "      <td>BONNER, DARRYL E.</td>\n",
       "      <td>20125</td>\n",
       "      <td>MONICA</td>\n",
       "      <td>25335</td>\n",
       "      <td>PEEKSKILL</td>\n",
       "      <td>SOUTHFIELD</td>\n",
       "      <td>MI</td>\n",
       "      <td>...</td>\n",
       "      <td>$20.00</td>\n",
       "      <td>$10.00</td>\n",
       "      <td>$10.00</td>\n",
       "      <td>$0.00</td>\n",
       "      <td>$140.00</td>\n",
       "      <td>NO PAYMENT APPLIED</td>\n",
       "      <td>0.0</td>\n",
       "      <td>0</td>\n",
       "      <td>20125 MONICA\\nDetroit, MI\\n(42.44169828400004,...</td>\n",
       "      <td>25335 PEEKSKILL\\nSOUTHFIELD, MI 48043\\n(42.475...</td>\n",
       "    </tr>\n",
       "    <tr>\n",
       "      <th>4</th>\n",
       "      <td>20211</td>\n",
       "      <td>05000028DAH</td>\n",
       "      <td>Department of Public Works</td>\n",
       "      <td>GREGORY, JAMES LEE</td>\n",
       "      <td>17397</td>\n",
       "      <td>PRAIRIE</td>\n",
       "      <td>17397</td>\n",
       "      <td>PRAIRIE</td>\n",
       "      <td>DETROIT</td>\n",
       "      <td>MI</td>\n",
       "      <td>...</td>\n",
       "      <td>$20.00</td>\n",
       "      <td>$10.00</td>\n",
       "      <td>$10.00</td>\n",
       "      <td>$0.00</td>\n",
       "      <td>$140.00</td>\n",
       "      <td>PAID IN FULL</td>\n",
       "      <td>0.0</td>\n",
       "      <td>0</td>\n",
       "      <td>17397 PRAIRIE\\nDetroit, MI\\n(42.42031769500005...</td>\n",
       "      <td>17397 PRAIRIE\\nDETROIT, MI 48221\\n(42.42031769...</td>\n",
       "    </tr>\n",
       "  </tbody>\n",
       "</table>\n",
       "<p>5 rows × 31 columns</p>\n",
       "</div>"
      ],
      "text/plain": [
       "   TicketID TicketNumber                  AgencyName  \\\n",
       "0     26288  05000001DAH  Department of Public Works   \n",
       "1     19800  05000025DAH  Department of Public Works   \n",
       "2     19804  05000026DAH  Department of Public Works   \n",
       "3     20208  05000027DAH  Department of Public Works   \n",
       "4     20211  05000028DAH  Department of Public Works   \n",
       "\n",
       "                    ViolName  ViolationStreetNumber ViolationStreetName  \\\n",
       "0  Group, LLC, Grand Holding                   2566    GRAND BLVD         \n",
       "1        JACKSON, RAECHELLE                   19014    ASHTON             \n",
       "2          TALTON, CAROL ANN                  18735    STAHELIN           \n",
       "3          BONNER, DARRYL E.                  20125    MONICA             \n",
       "4         GREGORY, JAMES LEE                  17397    PRAIRIE            \n",
       "\n",
       "  MailingStreetNumber   MailingStreetName MailingCity MailingState  ...  \\\n",
       "0                 743  Beaubien, Ste. 201     Detroit           MI  ...   \n",
       "1               20501              HEYDEN     DETROIT           MI  ...   \n",
       "2               18735           STAHELI N     DETROIT           MI  ...   \n",
       "3               25335           PEEKSKILL  SOUTHFIELD           MI  ...   \n",
       "4               17397             PRAIRIE     DETROIT           MI  ...   \n",
       "\n",
       "  AdminFee  LateFee StateFee CleanUpCost JudgmentAmt       PaymentStatus Void  \\\n",
       "0   $20.00  $150.00   $10.00       $0.00    $1680.00        PAID IN FULL  0.0   \n",
       "1   $20.00   $10.00   $10.00       $0.00     $140.00  NO PAYMENT APPLIED  0.0   \n",
       "2   $20.00   $10.00   $10.00       $0.00     $140.00        PAID IN FULL  0.0   \n",
       "3   $20.00   $10.00   $10.00       $0.00     $140.00  NO PAYMENT APPLIED  0.0   \n",
       "4   $20.00   $10.00   $10.00       $0.00     $140.00        PAID IN FULL  0.0   \n",
       "\n",
       "  ViolationCategory                                   ViolationAddress  \\\n",
       "0                 0  2566 GRAND BLVD\\nDetroit, MI\\n(42.363182370000...   \n",
       "1                 0  19014 ASHTON\\nDetroit, MI\\n(42.429390762000025...   \n",
       "2                 0  18735 STAHELIN\\nDetroit, MI\\n(42.4287074590000...   \n",
       "3                 0  20125 MONICA\\nDetroit, MI\\n(42.44169828400004,...   \n",
       "4                 0  17397 PRAIRIE\\nDetroit, MI\\n(42.42031769500005...   \n",
       "\n",
       "                                      MailingAddress  \n",
       "0  743 Beaubien\\nDetroit, MI 48226\\n(42.333730630...  \n",
       "1  20501 HEYDEN\\nDETROIT, MI 48219\\n(42.442177633...  \n",
       "2  18735 STAHELI N\\nDETROIT, MI 48219\\n(42.428707...  \n",
       "3  25335 PEEKSKILL\\nSOUTHFIELD, MI 48043\\n(42.475...  \n",
       "4  17397 PRAIRIE\\nDETROIT, MI 48221\\n(42.42031769...  \n",
       "\n",
       "[5 rows x 31 columns]"
      ]
     },
     "execution_count": 3,
     "metadata": {},
     "output_type": "execute_result"
    }
   ],
   "source": [
    "violations.head()"
   ]
  },
  {
   "cell_type": "code",
   "execution_count": 4,
   "metadata": {},
   "outputs": [
    {
     "data": {
      "text/plain": [
       "Index(['TicketID', 'TicketNumber', 'AgencyName', 'ViolName',\n",
       "       'ViolationStreetNumber', 'ViolationStreetName', 'MailingStreetNumber',\n",
       "       'MailingStreetName', 'MailingCity', 'MailingState', 'MailingZipCode',\n",
       "       'NonUsAddressCode', 'Country', 'TicketIssuedDT', 'TicketIssuedTime',\n",
       "       'HearingDT', 'CourtTime', 'ViolationCode', 'ViolDescription',\n",
       "       'Disposition', 'FineAmt', 'AdminFee', 'LateFee', 'StateFee',\n",
       "       'CleanUpCost', 'JudgmentAmt', 'PaymentStatus', 'Void',\n",
       "       'ViolationCategory', 'ViolationAddress', 'MailingAddress'],\n",
       "      dtype='object')"
      ]
     },
     "execution_count": 4,
     "metadata": {},
     "output_type": "execute_result"
    }
   ],
   "source": [
    "violations.columns"
   ]
  },
  {
   "cell_type": "code",
   "execution_count": 5,
   "metadata": {},
   "outputs": [
    {
     "data": {
      "text/plain": [
       "TicketID                      0\n",
       "TicketNumber                  0\n",
       "AgencyName                    0\n",
       "ViolName                      2\n",
       "ViolationStreetNumber         0\n",
       "ViolationStreetName           0\n",
       "MailingStreetNumber           2\n",
       "MailingStreetName             0\n",
       "MailingCity                 422\n",
       "MailingState                888\n",
       "MailingZipCode              427\n",
       "NonUsAddressCode         307379\n",
       "Country                  289320\n",
       "TicketIssuedDT                0\n",
       "TicketIssuedTime              0\n",
       "HearingDT                     0\n",
       "CourtTime                     0\n",
       "ViolationCode                 0\n",
       "ViolDescription               0\n",
       "Disposition                   0\n",
       "FineAmt                    1973\n",
       "AdminFee                      0\n",
       "LateFee                       0\n",
       "StateFee                      0\n",
       "CleanUpCost                   0\n",
       "JudgmentAmt                1972\n",
       "PaymentStatus                 0\n",
       "Void                     208671\n",
       "ViolationCategory             0\n",
       "ViolationAddress              0\n",
       "MailingAddress             2078\n",
       "dtype: int64"
      ]
     },
     "execution_count": 5,
     "metadata": {},
     "output_type": "execute_result"
    }
   ],
   "source": [
    "violations.isna().sum()"
   ]
  },
  {
   "cell_type": "code",
   "execution_count": 6,
   "metadata": {},
   "outputs": [
    {
     "data": {
      "text/html": [
       "<div>\n",
       "<style scoped>\n",
       "    .dataframe tbody tr th:only-of-type {\n",
       "        vertical-align: middle;\n",
       "    }\n",
       "\n",
       "    .dataframe tbody tr th {\n",
       "        vertical-align: top;\n",
       "    }\n",
       "\n",
       "    .dataframe thead th {\n",
       "        text-align: right;\n",
       "    }\n",
       "</style>\n",
       "<table border=\"1\" class=\"dataframe\">\n",
       "  <thead>\n",
       "    <tr style=\"text-align: right;\">\n",
       "      <th></th>\n",
       "      <th>ROWNUM</th>\n",
       "      <th>CASEID</th>\n",
       "      <th>INCINO</th>\n",
       "      <th>CATEGORY</th>\n",
       "      <th>OFFENSEDESCRIPTION</th>\n",
       "      <th>STATEOFFENSEFILECLASS</th>\n",
       "      <th>INCIDENTDATE</th>\n",
       "      <th>HOUR</th>\n",
       "      <th>SCA</th>\n",
       "      <th>PRECINCT</th>\n",
       "      <th>COUNCIL</th>\n",
       "      <th>NEIGHBORHOOD</th>\n",
       "      <th>CENSUSTRACT</th>\n",
       "      <th>ADDRESS</th>\n",
       "      <th>LON</th>\n",
       "      <th>LAT</th>\n",
       "      <th>LOCATION</th>\n",
       "    </tr>\n",
       "  </thead>\n",
       "  <tbody>\n",
       "    <tr>\n",
       "      <th>0</th>\n",
       "      <td>53256</td>\n",
       "      <td>1953933</td>\n",
       "      <td>1506030028.1</td>\n",
       "      <td>ASSAULT</td>\n",
       "      <td>ASSAULT AND BATTERY/SIMPLE ASSAULT</td>\n",
       "      <td>13001.0</td>\n",
       "      <td>06/03/2015 12:00:00 AM</td>\n",
       "      <td>2</td>\n",
       "      <td>1007.0</td>\n",
       "      <td>10.0</td>\n",
       "      <td>City Council District 5</td>\n",
       "      <td>PETOSKEY-OTSEGO</td>\n",
       "      <td>5334.0</td>\n",
       "      <td>09100 PETOSKEY</td>\n",
       "      <td>-83.1221</td>\n",
       "      <td>42.3678</td>\n",
       "      <td>PETOSKEY\\n09100\\n(42.3676, -83.1219)</td>\n",
       "    </tr>\n",
       "    <tr>\n",
       "      <th>1</th>\n",
       "      <td>17631</td>\n",
       "      <td>1917717</td>\n",
       "      <td>1503010158.1</td>\n",
       "      <td>LARCENY</td>\n",
       "      <td>LARCENY - PARTS AND ACCESSORIES FROM VEHICLE</td>\n",
       "      <td>23006.0</td>\n",
       "      <td>03/01/2015 12:00:00 AM</td>\n",
       "      <td>9</td>\n",
       "      <td>608.0</td>\n",
       "      <td>6.0</td>\n",
       "      <td>City Council District 7</td>\n",
       "      <td>GRANDALE</td>\n",
       "      <td>5452.0</td>\n",
       "      <td>00 PLYMOUTH AND MANSFIELD</td>\n",
       "      <td>-83.2035</td>\n",
       "      <td>42.3724</td>\n",
       "      <td>00 PLYMOUTH AND MANSFIELD\\n(42.3725, -83.2033)</td>\n",
       "    </tr>\n",
       "    <tr>\n",
       "      <th>2</th>\n",
       "      <td>11207</td>\n",
       "      <td>1910955</td>\n",
       "      <td>1502080223.1</td>\n",
       "      <td>STOLEN VEHICLE</td>\n",
       "      <td>VEHICLE THEFT</td>\n",
       "      <td>24001.0</td>\n",
       "      <td>02/08/2015 12:00:00 AM</td>\n",
       "      <td>18</td>\n",
       "      <td>1105.0</td>\n",
       "      <td>11.0</td>\n",
       "      <td>City Council District 3</td>\n",
       "      <td>OUTER DRIVE VAN DYKE</td>\n",
       "      <td>5051.0</td>\n",
       "      <td>00 E 7 MILE  VAN DYKE</td>\n",
       "      <td>-83.0241</td>\n",
       "      <td>42.4338</td>\n",
       "      <td>00 E 7 MILE VAN DYKE\\n(42.4339, -83.0241)</td>\n",
       "    </tr>\n",
       "    <tr>\n",
       "      <th>3</th>\n",
       "      <td>116589</td>\n",
       "      <td>2018186</td>\n",
       "      <td>1511090188.1</td>\n",
       "      <td>WEAPONS OFFENSES</td>\n",
       "      <td>WEAPONS OFFENSE (OTHER)</td>\n",
       "      <td>52003.0</td>\n",
       "      <td>11/09/2015 12:00:00 AM</td>\n",
       "      <td>12</td>\n",
       "      <td>210.0</td>\n",
       "      <td>2.0</td>\n",
       "      <td>City Council District 6</td>\n",
       "      <td>TIREMAN</td>\n",
       "      <td>NaN</td>\n",
       "      <td>06600 BARTON</td>\n",
       "      <td>-83.1381</td>\n",
       "      <td>42.3496</td>\n",
       "      <td>BARTON\\n06600\\n(42.3494, -83.1379)</td>\n",
       "    </tr>\n",
       "    <tr>\n",
       "      <th>4</th>\n",
       "      <td>85790</td>\n",
       "      <td>1986862</td>\n",
       "      <td>1508239803.1</td>\n",
       "      <td>LARCENY</td>\n",
       "      <td>LARCENY - PARTS AND ACCESSORIES FROM VEHICLE</td>\n",
       "      <td>23006.0</td>\n",
       "      <td>08/14/2015 12:00:00 AM</td>\n",
       "      <td>7</td>\n",
       "      <td>309.0</td>\n",
       "      <td>3.0</td>\n",
       "      <td>City Council District 6</td>\n",
       "      <td>WEST CANFIELD</td>\n",
       "      <td>5204.0</td>\n",
       "      <td>00900 W WILLIS</td>\n",
       "      <td>-83.0692</td>\n",
       "      <td>42.3481</td>\n",
       "      <td>W WILLIS\\n00900\\n(42.3481, -83.0693)</td>\n",
       "    </tr>\n",
       "  </tbody>\n",
       "</table>\n",
       "</div>"
      ],
      "text/plain": [
       "   ROWNUM   CASEID        INCINO          CATEGORY  \\\n",
       "0   53256  1953933  1506030028.1           ASSAULT   \n",
       "1   17631  1917717  1503010158.1           LARCENY   \n",
       "2   11207  1910955  1502080223.1    STOLEN VEHICLE   \n",
       "3  116589  2018186  1511090188.1  WEAPONS OFFENSES   \n",
       "4   85790  1986862  1508239803.1           LARCENY   \n",
       "\n",
       "                             OFFENSEDESCRIPTION  STATEOFFENSEFILECLASS  \\\n",
       "0            ASSAULT AND BATTERY/SIMPLE ASSAULT                13001.0   \n",
       "1  LARCENY - PARTS AND ACCESSORIES FROM VEHICLE                23006.0   \n",
       "2                                 VEHICLE THEFT                24001.0   \n",
       "3                       WEAPONS OFFENSE (OTHER)                52003.0   \n",
       "4  LARCENY - PARTS AND ACCESSORIES FROM VEHICLE                23006.0   \n",
       "\n",
       "             INCIDENTDATE  HOUR     SCA  PRECINCT                  COUNCIL  \\\n",
       "0  06/03/2015 12:00:00 AM     2  1007.0      10.0  City Council District 5   \n",
       "1  03/01/2015 12:00:00 AM     9   608.0       6.0  City Council District 7   \n",
       "2  02/08/2015 12:00:00 AM    18  1105.0      11.0  City Council District 3   \n",
       "3  11/09/2015 12:00:00 AM    12   210.0       2.0  City Council District 6   \n",
       "4  08/14/2015 12:00:00 AM     7   309.0       3.0  City Council District 6   \n",
       "\n",
       "           NEIGHBORHOOD  CENSUSTRACT                    ADDRESS      LON  \\\n",
       "0       PETOSKEY-OTSEGO       5334.0             09100 PETOSKEY -83.1221   \n",
       "1              GRANDALE       5452.0  00 PLYMOUTH AND MANSFIELD -83.2035   \n",
       "2  OUTER DRIVE VAN DYKE       5051.0      00 E 7 MILE  VAN DYKE -83.0241   \n",
       "3               TIREMAN          NaN               06600 BARTON -83.1381   \n",
       "4         WEST CANFIELD       5204.0             00900 W WILLIS -83.0692   \n",
       "\n",
       "       LAT                                        LOCATION  \n",
       "0  42.3678            PETOSKEY\\n09100\\n(42.3676, -83.1219)  \n",
       "1  42.3724  00 PLYMOUTH AND MANSFIELD\\n(42.3725, -83.2033)  \n",
       "2  42.4338       00 E 7 MILE VAN DYKE\\n(42.4339, -83.0241)  \n",
       "3  42.3496              BARTON\\n06600\\n(42.3494, -83.1379)  \n",
       "4  42.3481            W WILLIS\\n00900\\n(42.3481, -83.0693)  "
      ]
     },
     "execution_count": 6,
     "metadata": {},
     "output_type": "execute_result"
    }
   ],
   "source": [
    "crimes.head()"
   ]
  },
  {
   "cell_type": "code",
   "execution_count": 7,
   "metadata": {},
   "outputs": [
    {
     "data": {
      "text/plain": [
       "ROWNUM                       0\n",
       "CASEID                       0\n",
       "INCINO                       0\n",
       "CATEGORY                     0\n",
       "OFFENSEDESCRIPTION           8\n",
       "STATEOFFENSEFILECLASS        8\n",
       "INCIDENTDATE                 0\n",
       "HOUR                         0\n",
       "SCA                        771\n",
       "PRECINCT                   771\n",
       "COUNCIL                   4122\n",
       "NEIGHBORHOOD              4659\n",
       "CENSUSTRACT              13045\n",
       "ADDRESS                      0\n",
       "LON                         59\n",
       "LAT                         59\n",
       "LOCATION                     0\n",
       "dtype: int64"
      ]
     },
     "execution_count": 7,
     "metadata": {},
     "output_type": "execute_result"
    }
   ],
   "source": [
    "crimes.isna().sum()"
   ]
  },
  {
   "cell_type": "code",
   "execution_count": 8,
   "metadata": {},
   "outputs": [
    {
     "data": {
      "text/html": [
       "<div>\n",
       "<style scoped>\n",
       "    .dataframe tbody tr th:only-of-type {\n",
       "        vertical-align: middle;\n",
       "    }\n",
       "\n",
       "    .dataframe tbody tr th {\n",
       "        vertical-align: top;\n",
       "    }\n",
       "\n",
       "    .dataframe thead th {\n",
       "        text-align: right;\n",
       "    }\n",
       "</style>\n",
       "<table border=\"1\" class=\"dataframe\">\n",
       "  <thead>\n",
       "    <tr style=\"text-align: right;\">\n",
       "      <th></th>\n",
       "      <th>ticket_id</th>\n",
       "      <th>city</th>\n",
       "      <th>issue_type</th>\n",
       "      <th>ticket_status</th>\n",
       "      <th>issue_description</th>\n",
       "      <th>rating</th>\n",
       "      <th>ticket_closed_date_time</th>\n",
       "      <th>acknowledged_at</th>\n",
       "      <th>ticket_created_date_time</th>\n",
       "      <th>ticket_last_updated_date_time</th>\n",
       "      <th>address</th>\n",
       "      <th>lat</th>\n",
       "      <th>lng</th>\n",
       "      <th>location</th>\n",
       "      <th>image</th>\n",
       "    </tr>\n",
       "  </thead>\n",
       "  <tbody>\n",
       "    <tr>\n",
       "      <th>0</th>\n",
       "      <td>1516722</td>\n",
       "      <td>City of Detroit</td>\n",
       "      <td>Clogged Drain</td>\n",
       "      <td>Acknowledged</td>\n",
       "      <td>Two drains one on each side of street, street ...</td>\n",
       "      <td>3</td>\n",
       "      <td>NaN</td>\n",
       "      <td>03/06/2015 10:03:38 PM</td>\n",
       "      <td>03/06/2015 09:57:52 PM</td>\n",
       "      <td>04/12/2015 01:01:10 AM</td>\n",
       "      <td>13120-13130 Ilene Street Detroit, MI 48238, USA</td>\n",
       "      <td>42.383998</td>\n",
       "      <td>-83.161039</td>\n",
       "      <td>(42.3839977668, -83.1610385642)</td>\n",
       "      <td>NaN</td>\n",
       "    </tr>\n",
       "    <tr>\n",
       "      <th>1</th>\n",
       "      <td>1525361</td>\n",
       "      <td>City of Detroit</td>\n",
       "      <td>Clogged Drain</td>\n",
       "      <td>Acknowledged</td>\n",
       "      <td>standing water on lumplin</td>\n",
       "      <td>2</td>\n",
       "      <td>NaN</td>\n",
       "      <td>03/11/2015 04:23:11 PM</td>\n",
       "      <td>03/11/2015 04:14:29 PM</td>\n",
       "      <td>04/07/2015 02:04:44 PM</td>\n",
       "      <td>1485 E. Outer Drive Detroit, Michigan</td>\n",
       "      <td>42.440471</td>\n",
       "      <td>-83.080919</td>\n",
       "      <td>(42.4404708, -83.080919)</td>\n",
       "      <td>NaN</td>\n",
       "    </tr>\n",
       "    <tr>\n",
       "      <th>2</th>\n",
       "      <td>1525218</td>\n",
       "      <td>City of Detroit</td>\n",
       "      <td>Clogged Drain</td>\n",
       "      <td>Closed</td>\n",
       "      <td>CITZEN CALLED TO REPORT CLOGGED DRAINS</td>\n",
       "      <td>2</td>\n",
       "      <td>08/15/2015 12:03:43 AM</td>\n",
       "      <td>03/11/2015 03:39:05 PM</td>\n",
       "      <td>03/11/2015 03:26:20 PM</td>\n",
       "      <td>08/15/2015 12:03:44 AM</td>\n",
       "      <td>15460 Eastburn Detroit, Michigan</td>\n",
       "      <td>42.445244</td>\n",
       "      <td>-82.962038</td>\n",
       "      <td>(42.445244, -82.962038)</td>\n",
       "      <td>NaN</td>\n",
       "    </tr>\n",
       "    <tr>\n",
       "      <th>3</th>\n",
       "      <td>1525214</td>\n",
       "      <td>City of Detroit</td>\n",
       "      <td>Clogged Drain</td>\n",
       "      <td>Acknowledged</td>\n",
       "      <td>Citizen called DWSD to report clogged drain</td>\n",
       "      <td>3</td>\n",
       "      <td>NaN</td>\n",
       "      <td>03/11/2015 03:35:02 PM</td>\n",
       "      <td>03/11/2015 03:22:42 PM</td>\n",
       "      <td>06/07/2015 10:07:48 PM</td>\n",
       "      <td>17541 Mendota St Detroit, Michigan</td>\n",
       "      <td>42.421043</td>\n",
       "      <td>-83.166194</td>\n",
       "      <td>(42.421043, -83.166194)</td>\n",
       "      <td>NaN</td>\n",
       "    </tr>\n",
       "    <tr>\n",
       "      <th>4</th>\n",
       "      <td>1525142</td>\n",
       "      <td>City of Detroit</td>\n",
       "      <td>Clogged Drain</td>\n",
       "      <td>Acknowledged</td>\n",
       "      <td>@ THE CORNER OF GRIGGS &amp; MARGARETA</td>\n",
       "      <td>2</td>\n",
       "      <td>NaN</td>\n",
       "      <td>03/11/2015 03:04:59 PM</td>\n",
       "      <td>03/11/2015 02:53:23 PM</td>\n",
       "      <td>03/11/2015 03:04:59 PM</td>\n",
       "      <td>Griggs Detroit, Michigan</td>\n",
       "      <td>42.402033</td>\n",
       "      <td>-83.162874</td>\n",
       "      <td>(42.4020334, -83.1628741)</td>\n",
       "      <td>NaN</td>\n",
       "    </tr>\n",
       "  </tbody>\n",
       "</table>\n",
       "</div>"
      ],
      "text/plain": [
       "   ticket_id             city     issue_type ticket_status  \\\n",
       "0    1516722  City of Detroit  Clogged Drain  Acknowledged   \n",
       "1    1525361  City of Detroit  Clogged Drain  Acknowledged   \n",
       "2    1525218  City of Detroit  Clogged Drain        Closed   \n",
       "3    1525214  City of Detroit  Clogged Drain  Acknowledged   \n",
       "4    1525142  City of Detroit  Clogged Drain  Acknowledged   \n",
       "\n",
       "                                   issue_description  rating  \\\n",
       "0  Two drains one on each side of street, street ...       3   \n",
       "1                          standing water on lumplin       2   \n",
       "2             CITZEN CALLED TO REPORT CLOGGED DRAINS       2   \n",
       "3        Citizen called DWSD to report clogged drain       3   \n",
       "4                 @ THE CORNER OF GRIGGS & MARGARETA       2   \n",
       "\n",
       "  ticket_closed_date_time         acknowledged_at ticket_created_date_time  \\\n",
       "0                     NaN  03/06/2015 10:03:38 PM   03/06/2015 09:57:52 PM   \n",
       "1                     NaN  03/11/2015 04:23:11 PM   03/11/2015 04:14:29 PM   \n",
       "2  08/15/2015 12:03:43 AM  03/11/2015 03:39:05 PM   03/11/2015 03:26:20 PM   \n",
       "3                     NaN  03/11/2015 03:35:02 PM   03/11/2015 03:22:42 PM   \n",
       "4                     NaN  03/11/2015 03:04:59 PM   03/11/2015 02:53:23 PM   \n",
       "\n",
       "  ticket_last_updated_date_time  \\\n",
       "0        04/12/2015 01:01:10 AM   \n",
       "1        04/07/2015 02:04:44 PM   \n",
       "2        08/15/2015 12:03:44 AM   \n",
       "3        06/07/2015 10:07:48 PM   \n",
       "4        03/11/2015 03:04:59 PM   \n",
       "\n",
       "                                           address        lat        lng  \\\n",
       "0  13120-13130 Ilene Street Detroit, MI 48238, USA  42.383998 -83.161039   \n",
       "1            1485 E. Outer Drive Detroit, Michigan  42.440471 -83.080919   \n",
       "2                 15460 Eastburn Detroit, Michigan  42.445244 -82.962038   \n",
       "3               17541 Mendota St Detroit, Michigan  42.421043 -83.166194   \n",
       "4                         Griggs Detroit, Michigan  42.402033 -83.162874   \n",
       "\n",
       "                          location image  \n",
       "0  (42.3839977668, -83.1610385642)   NaN  \n",
       "1         (42.4404708, -83.080919)   NaN  \n",
       "2          (42.445244, -82.962038)   NaN  \n",
       "3          (42.421043, -83.166194)   NaN  \n",
       "4        (42.4020334, -83.1628741)   NaN  "
      ]
     },
     "execution_count": 8,
     "metadata": {},
     "output_type": "execute_result"
    }
   ],
   "source": [
    "complaints.head()"
   ]
  },
  {
   "cell_type": "code",
   "execution_count": 9,
   "metadata": {},
   "outputs": [
    {
     "data": {
      "text/plain": [
       "ticket_id                            0\n",
       "city                                 0\n",
       "issue_type                           0\n",
       "ticket_status                        0\n",
       "issue_description                 4464\n",
       "rating                               0\n",
       "ticket_closed_date_time           3175\n",
       "acknowledged_at                   2023\n",
       "ticket_created_date_time             0\n",
       "ticket_last_updated_date_time        0\n",
       "address                              0\n",
       "lat                                  0\n",
       "lng                                  0\n",
       "location                             0\n",
       "image                            15578\n",
       "dtype: int64"
      ]
     },
     "execution_count": 9,
     "metadata": {},
     "output_type": "execute_result"
    }
   ],
   "source": [
    "complaints.isna().sum()"
   ]
  },
  {
   "cell_type": "code",
   "execution_count": 10,
   "metadata": {},
   "outputs": [
    {
     "data": {
      "text/html": [
       "<div>\n",
       "<style scoped>\n",
       "    .dataframe tbody tr th:only-of-type {\n",
       "        vertical-align: middle;\n",
       "    }\n",
       "\n",
       "    .dataframe tbody tr th {\n",
       "        vertical-align: top;\n",
       "    }\n",
       "\n",
       "    .dataframe thead th {\n",
       "        text-align: right;\n",
       "    }\n",
       "</style>\n",
       "<table border=\"1\" class=\"dataframe\">\n",
       "  <thead>\n",
       "    <tr style=\"text-align: right;\">\n",
       "      <th></th>\n",
       "      <th>PERMIT_NO</th>\n",
       "      <th>PERMIT_APPLIED</th>\n",
       "      <th>PERMIT_ISSUED</th>\n",
       "      <th>PERMIT_EXPIRES</th>\n",
       "      <th>SITE_ADDRESS</th>\n",
       "      <th>BETWEEN1</th>\n",
       "      <th>PARCEL_NO</th>\n",
       "      <th>LOT_NUMBER</th>\n",
       "      <th>SUBDIVISION</th>\n",
       "      <th>CASE_TYPE</th>\n",
       "      <th>...</th>\n",
       "      <th>CONTRACTOR_ADDRESS1</th>\n",
       "      <th>CONTRACTOR_ADDRESS2</th>\n",
       "      <th>CONTRACTOR_CITY</th>\n",
       "      <th>CONTRACTOR_STATE</th>\n",
       "      <th>CONTRACTOR_ZIP</th>\n",
       "      <th>CONDITION_FOR_APPROVAL</th>\n",
       "      <th>site_location</th>\n",
       "      <th>owner_location</th>\n",
       "      <th>contractor_location</th>\n",
       "      <th>geom</th>\n",
       "    </tr>\n",
       "  </thead>\n",
       "  <tbody>\n",
       "    <tr>\n",
       "      <th>0</th>\n",
       "      <td>BLD2015-03955</td>\n",
       "      <td>8/28/15</td>\n",
       "      <td>8/28/15</td>\n",
       "      <td>NaN</td>\n",
       "      <td>4331  BARHAM</td>\n",
       "      <td>BETWEEN VOIGHT AND WAVENEY</td>\n",
       "      <td>21 65525-6</td>\n",
       "      <td>S15</td>\n",
       "      <td>NaN</td>\n",
       "      <td>BLD</td>\n",
       "      <td>...</td>\n",
       "      <td>13500 FOLEY</td>\n",
       "      <td>NaN</td>\n",
       "      <td>DETROIT</td>\n",
       "      <td>NaN</td>\n",
       "      <td>48227.0</td>\n",
       "      <td>NaN</td>\n",
       "      <td>4331 BARHAM\\nDetroit, MI\\n(42.394106, -82.9474)</td>\n",
       "      <td>65 CADILLAC\\nDETROIT, MI\\n(42.331741326000042,...</td>\n",
       "      <td>13500 FOLEY\\nDETROIT, MI\\n(42.379332, -83.177501)</td>\n",
       "      <td>NaN</td>\n",
       "    </tr>\n",
       "    <tr>\n",
       "      <th>1</th>\n",
       "      <td>BLD2015-04083</td>\n",
       "      <td>8/28/15</td>\n",
       "      <td>8/28/15</td>\n",
       "      <td>NaN</td>\n",
       "      <td>9707  BESSEMORE</td>\n",
       "      <td>BETWEEN VINTON AND GRATIOT</td>\n",
       "      <td>19 2312.</td>\n",
       "      <td>40</td>\n",
       "      <td>NaN</td>\n",
       "      <td>BLD</td>\n",
       "      <td>...</td>\n",
       "      <td>13500 FOLEY</td>\n",
       "      <td>NaN</td>\n",
       "      <td>DETROIT</td>\n",
       "      <td>NaN</td>\n",
       "      <td>48227.0</td>\n",
       "      <td>NaN</td>\n",
       "      <td>9707 BESSEMORE\\nDetroit, MI\\n(42.395122, -83.0...</td>\n",
       "      <td>65 CADILLAC\\nDETROIT, MI\\n(42.331741326000042,...</td>\n",
       "      <td>13500 FOLEY\\nDETROIT, MI\\n(42.379332, -83.177501)</td>\n",
       "      <td>NaN</td>\n",
       "    </tr>\n",
       "    <tr>\n",
       "      <th>2</th>\n",
       "      <td>BLD2015-03976</td>\n",
       "      <td>8/28/15</td>\n",
       "      <td>8/28/15</td>\n",
       "      <td>NaN</td>\n",
       "      <td>5315  BERKSHIRE</td>\n",
       "      <td>BETWEEN SOUTHAMPTON AND FRANKFORT</td>\n",
       "      <td>21 69321.</td>\n",
       "      <td>445</td>\n",
       "      <td>NaN</td>\n",
       "      <td>BLD</td>\n",
       "      <td>...</td>\n",
       "      <td>13500 FOLEY</td>\n",
       "      <td>NaN</td>\n",
       "      <td>DETROIT</td>\n",
       "      <td>NaN</td>\n",
       "      <td>48227.0</td>\n",
       "      <td>NaN</td>\n",
       "      <td>5315 BERKSHIRE\\nDetroit, MI\\n(42.40322, -82.94...</td>\n",
       "      <td>65 CADILLAC\\nDETROIT, MI\\n(42.331741326000042,...</td>\n",
       "      <td>13500 FOLEY\\nDETROIT, MI\\n(42.379332, -83.177501)</td>\n",
       "      <td>NaN</td>\n",
       "    </tr>\n",
       "    <tr>\n",
       "      <th>3</th>\n",
       "      <td>BLD2015-03781</td>\n",
       "      <td>8/28/15</td>\n",
       "      <td>8/28/15</td>\n",
       "      <td>NaN</td>\n",
       "      <td>16670  BRINGARD DR</td>\n",
       "      <td>BETWEEN CUSHING AND SHAKESPEARE</td>\n",
       "      <td>21 25930.</td>\n",
       "      <td>97</td>\n",
       "      <td>NaN</td>\n",
       "      <td>BLD</td>\n",
       "      <td>...</td>\n",
       "      <td>13500 FOLEY</td>\n",
       "      <td>NaN</td>\n",
       "      <td>DETROIT</td>\n",
       "      <td>NaN</td>\n",
       "      <td>48227.0</td>\n",
       "      <td>NaN</td>\n",
       "      <td>16670 BRINGARD DR\\nDetroit, MI\\n(42.44664, -82...</td>\n",
       "      <td>65 CADILLAC\\nDETROIT, MI\\n(42.331741326000042,...</td>\n",
       "      <td>13500 FOLEY\\nDETROIT, MI\\n(42.379332, -83.177501)</td>\n",
       "      <td>NaN</td>\n",
       "    </tr>\n",
       "    <tr>\n",
       "      <th>4</th>\n",
       "      <td>BLD2015-03677</td>\n",
       "      <td>8/28/15</td>\n",
       "      <td>8/28/15</td>\n",
       "      <td>NaN</td>\n",
       "      <td>1454  BEATRICE</td>\n",
       "      <td>BETWEEN TORONTO AND GILROY</td>\n",
       "      <td>20 12871.012</td>\n",
       "      <td>21</td>\n",
       "      <td>NaN</td>\n",
       "      <td>BLD</td>\n",
       "      <td>...</td>\n",
       "      <td>13500 FOLEY</td>\n",
       "      <td>NaN</td>\n",
       "      <td>DETROIT</td>\n",
       "      <td>NaN</td>\n",
       "      <td>48227.0</td>\n",
       "      <td>NaN</td>\n",
       "      <td>1454 BEATRICE\\nDetroit, MI\\n(42.276956, -83.14...</td>\n",
       "      <td>65 CADILLAC\\nDETROIT, MI\\n(42.331741326000042,...</td>\n",
       "      <td>13500 FOLEY\\nDETROIT, MI\\n(42.379332, -83.177501)</td>\n",
       "      <td>NaN</td>\n",
       "    </tr>\n",
       "  </tbody>\n",
       "</table>\n",
       "<p>5 rows × 55 columns</p>\n",
       "</div>"
      ],
      "text/plain": [
       "       PERMIT_NO PERMIT_APPLIED PERMIT_ISSUED PERMIT_EXPIRES  \\\n",
       "0  BLD2015-03955        8/28/15       8/28/15            NaN   \n",
       "1  BLD2015-04083        8/28/15       8/28/15            NaN   \n",
       "2  BLD2015-03976        8/28/15       8/28/15            NaN   \n",
       "3  BLD2015-03781        8/28/15       8/28/15            NaN   \n",
       "4  BLD2015-03677        8/28/15       8/28/15            NaN   \n",
       "\n",
       "         SITE_ADDRESS                           BETWEEN1     PARCEL_NO  \\\n",
       "0        4331  BARHAM         BETWEEN VOIGHT AND WAVENEY    21 65525-6   \n",
       "1     9707  BESSEMORE         BETWEEN VINTON AND GRATIOT      19 2312.   \n",
       "2     5315  BERKSHIRE  BETWEEN SOUTHAMPTON AND FRANKFORT     21 69321.   \n",
       "3  16670  BRINGARD DR    BETWEEN CUSHING AND SHAKESPEARE     21 25930.   \n",
       "4      1454  BEATRICE         BETWEEN TORONTO AND GILROY  20 12871.012   \n",
       "\n",
       "  LOT_NUMBER SUBDIVISION CASE_TYPE  ... CONTRACTOR_ADDRESS1  \\\n",
       "0        S15         NaN       BLD  ...         13500 FOLEY   \n",
       "1         40         NaN       BLD  ...         13500 FOLEY   \n",
       "2        445         NaN       BLD  ...         13500 FOLEY   \n",
       "3         97         NaN       BLD  ...         13500 FOLEY   \n",
       "4         21         NaN       BLD  ...         13500 FOLEY   \n",
       "\n",
       "  CONTRACTOR_ADDRESS2 CONTRACTOR_CITY  CONTRACTOR_STATE  CONTRACTOR_ZIP  \\\n",
       "0                 NaN         DETROIT               NaN         48227.0   \n",
       "1                 NaN         DETROIT               NaN         48227.0   \n",
       "2                 NaN         DETROIT               NaN         48227.0   \n",
       "3                 NaN         DETROIT               NaN         48227.0   \n",
       "4                 NaN         DETROIT               NaN         48227.0   \n",
       "\n",
       "   CONDITION_FOR_APPROVAL                                      site_location  \\\n",
       "0                     NaN    4331 BARHAM\\nDetroit, MI\\n(42.394106, -82.9474)   \n",
       "1                     NaN  9707 BESSEMORE\\nDetroit, MI\\n(42.395122, -83.0...   \n",
       "2                     NaN  5315 BERKSHIRE\\nDetroit, MI\\n(42.40322, -82.94...   \n",
       "3                     NaN  16670 BRINGARD DR\\nDetroit, MI\\n(42.44664, -82...   \n",
       "4                     NaN  1454 BEATRICE\\nDetroit, MI\\n(42.276956, -83.14...   \n",
       "\n",
       "                                      owner_location  \\\n",
       "0  65 CADILLAC\\nDETROIT, MI\\n(42.331741326000042,...   \n",
       "1  65 CADILLAC\\nDETROIT, MI\\n(42.331741326000042,...   \n",
       "2  65 CADILLAC\\nDETROIT, MI\\n(42.331741326000042,...   \n",
       "3  65 CADILLAC\\nDETROIT, MI\\n(42.331741326000042,...   \n",
       "4  65 CADILLAC\\nDETROIT, MI\\n(42.331741326000042,...   \n",
       "\n",
       "                                 contractor_location geom  \n",
       "0  13500 FOLEY\\nDETROIT, MI\\n(42.379332, -83.177501)  NaN  \n",
       "1  13500 FOLEY\\nDETROIT, MI\\n(42.379332, -83.177501)  NaN  \n",
       "2  13500 FOLEY\\nDETROIT, MI\\n(42.379332, -83.177501)  NaN  \n",
       "3  13500 FOLEY\\nDETROIT, MI\\n(42.379332, -83.177501)  NaN  \n",
       "4  13500 FOLEY\\nDETROIT, MI\\n(42.379332, -83.177501)  NaN  \n",
       "\n",
       "[5 rows x 55 columns]"
      ]
     },
     "execution_count": 10,
     "metadata": {},
     "output_type": "execute_result"
    }
   ],
   "source": [
    "permits.head()"
   ]
  },
  {
   "cell_type": "code",
   "execution_count": 11,
   "metadata": {},
   "outputs": [
    {
     "data": {
      "text/plain": [
       "PERMIT_NO                    0\n",
       "PERMIT_APPLIED               0\n",
       "PERMIT_ISSUED                0\n",
       "PERMIT_EXPIRES             180\n",
       "SITE_ADDRESS                 0\n",
       "BETWEEN1                    42\n",
       "PARCEL_NO                    0\n",
       "LOT_NUMBER                  71\n",
       "SUBDIVISION               1046\n",
       "CASE_TYPE                    0\n",
       "CASE_DESCRIPTION             0\n",
       "LEGAL_USE                  444\n",
       "ESTIMATED_COST            6791\n",
       "PARCEL_SIZE                 45\n",
       "PARCEL_CLUSTER_SECTOR       11\n",
       "STORIES                   1426\n",
       "PARCEL_FLOOR_AREA           45\n",
       "PARCEL_GROUND_AREA          45\n",
       "PRC_AKA_ADDRESS           6840\n",
       "BLD_PERMIT_TYPE              0\n",
       "PERMIT_DESCRIPTION        1274\n",
       "BLD_PERMIT_DESC            991\n",
       "BLD_TYPE_USE                52\n",
       "RESIDENTIAL                  0\n",
       "DESCRIPTION               1274\n",
       "BLD_TYPE_CONST_COD         201\n",
       "BLD_ZONING_DIST           4719\n",
       "BLD_USE_GROUP              445\n",
       "BLD_BASEMENT               856\n",
       "FEE_TYPE                     0\n",
       "CSM_CASENO                   0\n",
       "CSF_CREATED_BY               0\n",
       "SEQ_NO                       0\n",
       "PCF_AMT_PD                1274\n",
       "PCF_AMT_DUE                  0\n",
       "PCF_UPDATED                471\n",
       "OWNER_LAST_NAME             28\n",
       "OWNER_FIRST_NAME          6364\n",
       "OWNER_ADDRESS1               0\n",
       "OWNER_ADDRESS2            5605\n",
       "OWNER_CITY                   0\n",
       "OWNER_STATE                  0\n",
       "OWNER_ZIP                  579\n",
       "CONTRACTOR_LAST_NAME        61\n",
       "CONTRACTOR_FIRST_NAME     7097\n",
       "CONTRACTOR_ADDRESS1          0\n",
       "CONTRACTOR_ADDRESS2       5411\n",
       "CONTRACTOR_CITY              0\n",
       "CONTRACTOR_STATE           982\n",
       "CONTRACTOR_ZIP             179\n",
       "CONDITION_FOR_APPROVAL    7131\n",
       "site_location              803\n",
       "owner_location             805\n",
       "contractor_location        981\n",
       "geom                      7092\n",
       "dtype: int64"
      ]
     },
     "execution_count": 11,
     "metadata": {},
     "output_type": "execute_result"
    }
   ],
   "source": [
    "permits.isna().sum()"
   ]
  },
  {
   "cell_type": "code",
   "execution_count": 12,
   "metadata": {},
   "outputs": [
    {
     "data": {
      "text/plain": [
       "Index(['PERMIT_NO', 'PERMIT_APPLIED', 'PERMIT_ISSUED', 'PERMIT_EXPIRES',\n",
       "       'SITE_ADDRESS', 'BETWEEN1', 'PARCEL_NO', 'LOT_NUMBER', 'SUBDIVISION',\n",
       "       'CASE_TYPE', 'CASE_DESCRIPTION', 'LEGAL_USE', 'ESTIMATED_COST',\n",
       "       'PARCEL_SIZE', 'PARCEL_CLUSTER_SECTOR', 'STORIES', 'PARCEL_FLOOR_AREA',\n",
       "       'PARCEL_GROUND_AREA', 'PRC_AKA_ADDRESS', 'BLD_PERMIT_TYPE',\n",
       "       'PERMIT_DESCRIPTION', 'BLD_PERMIT_DESC', 'BLD_TYPE_USE', 'RESIDENTIAL',\n",
       "       'DESCRIPTION', 'BLD_TYPE_CONST_COD', 'BLD_ZONING_DIST', 'BLD_USE_GROUP',\n",
       "       'BLD_BASEMENT', 'FEE_TYPE', 'CSM_CASENO', 'CSF_CREATED_BY', 'SEQ_NO',\n",
       "       'PCF_AMT_PD', 'PCF_AMT_DUE', 'PCF_UPDATED', 'OWNER_LAST_NAME',\n",
       "       'OWNER_FIRST_NAME', 'OWNER_ADDRESS1', 'OWNER_ADDRESS2', 'OWNER_CITY',\n",
       "       'OWNER_STATE', 'OWNER_ZIP', 'CONTRACTOR_LAST_NAME',\n",
       "       'CONTRACTOR_FIRST_NAME', 'CONTRACTOR_ADDRESS1', 'CONTRACTOR_ADDRESS2',\n",
       "       'CONTRACTOR_CITY', 'CONTRACTOR_STATE', 'CONTRACTOR_ZIP',\n",
       "       'CONDITION_FOR_APPROVAL', 'site_location', 'owner_location',\n",
       "       'contractor_location', 'geom'],\n",
       "      dtype='object')"
      ]
     },
     "execution_count": 12,
     "metadata": {},
     "output_type": "execute_result"
    }
   ],
   "source": [
    "permits.columns"
   ]
  },
  {
   "cell_type": "code",
   "execution_count": 13,
   "metadata": {},
   "outputs": [
    {
     "data": {
      "text/plain": [
       "307804"
      ]
     },
     "execution_count": 13,
     "metadata": {},
     "output_type": "execute_result"
    }
   ],
   "source": [
    "len(violations)"
   ]
  },
  {
   "cell_type": "code",
   "execution_count": 14,
   "metadata": {},
   "outputs": [
    {
     "data": {
      "text/plain": [
       "119931"
      ]
     },
     "execution_count": 14,
     "metadata": {},
     "output_type": "execute_result"
    }
   ],
   "source": [
    "len(crimes)"
   ]
  },
  {
   "cell_type": "code",
   "execution_count": 15,
   "metadata": {},
   "outputs": [
    {
     "data": {
      "text/plain": [
       "7133"
      ]
     },
     "execution_count": 15,
     "metadata": {},
     "output_type": "execute_result"
    }
   ],
   "source": [
    "len(permits)"
   ]
  },
  {
   "cell_type": "code",
   "execution_count": 16,
   "metadata": {},
   "outputs": [
    {
     "data": {
      "text/plain": [
       "19680"
      ]
     },
     "execution_count": 16,
     "metadata": {},
     "output_type": "execute_result"
    }
   ],
   "source": [
    "len(complaints)"
   ]
  },
  {
   "cell_type": "markdown",
   "metadata": {},
   "source": [
    "# Extracting locations"
   ]
  },
  {
   "cell_type": "markdown",
   "metadata": {},
   "source": [
    "## Violation Data"
   ]
  },
  {
   "cell_type": "code",
   "execution_count": 17,
   "metadata": {},
   "outputs": [],
   "source": [
    "locations = violations['ViolationAddress'].str.split('\\n',expand=True)\n",
    "locations2 = violations['MailingAddress'].str.split('\\n',expand=True)\n",
    "locations[['LAT','LONG']]=locations.iloc[:,2].str.replace(\"(\",\"\").str.replace(\")\",\"\").str.split(\",\",expand=True)\n",
    "locations2[['LAT','LONG']]=locations.iloc[:,2].str.replace(\"(\",\"\").str.replace(\")\",\"\").str.split(\",\",expand=True)"
   ]
  },
  {
   "cell_type": "code",
   "execution_count": 18,
   "metadata": {},
   "outputs": [],
   "source": [
    "locations.drop(2, inplace=True,axis=1)\n",
    "locations2.drop(2, inplace=True,axis=1)"
   ]
  },
  {
   "cell_type": "code",
   "execution_count": 19,
   "metadata": {},
   "outputs": [],
   "source": [
    "locations['address'] = locations[0] + ',' + locations[1]\n",
    "locations2['address'] = locations2[0] + ',' + locations2[1]"
   ]
  },
  {
   "cell_type": "code",
   "execution_count": 20,
   "metadata": {},
   "outputs": [],
   "source": [
    "# locations['address'] = locations['address'].str.replace(' ',\",\")\n",
    "# locations2['address'] = locations2['address'].str.replace(' ',\",\")"
   ]
  },
  {
   "cell_type": "code",
   "execution_count": 21,
   "metadata": {},
   "outputs": [],
   "source": [
    "locations.drop([0,1],axis=1,inplace=True)\n",
    "locations2.drop([0,1],axis=1,inplace=True)"
   ]
  },
  {
   "cell_type": "code",
   "execution_count": 22,
   "metadata": {},
   "outputs": [
    {
     "data": {
      "text/html": [
       "<div>\n",
       "<style scoped>\n",
       "    .dataframe tbody tr th:only-of-type {\n",
       "        vertical-align: middle;\n",
       "    }\n",
       "\n",
       "    .dataframe tbody tr th {\n",
       "        vertical-align: top;\n",
       "    }\n",
       "\n",
       "    .dataframe thead th {\n",
       "        text-align: right;\n",
       "    }\n",
       "</style>\n",
       "<table border=\"1\" class=\"dataframe\">\n",
       "  <thead>\n",
       "    <tr style=\"text-align: right;\">\n",
       "      <th></th>\n",
       "      <th>LAT</th>\n",
       "      <th>LONG</th>\n",
       "      <th>address</th>\n",
       "    </tr>\n",
       "  </thead>\n",
       "  <tbody>\n",
       "    <tr>\n",
       "      <th>0</th>\n",
       "      <td>42.36318237000006</td>\n",
       "      <td>-83.09167672099994</td>\n",
       "      <td>2566 GRAND BLVD,Detroit, MI</td>\n",
       "    </tr>\n",
       "    <tr>\n",
       "      <th>1</th>\n",
       "      <td>42.429390762000025</td>\n",
       "      <td>-83.22039357799997</td>\n",
       "      <td>19014 ASHTON,Detroit, MI</td>\n",
       "    </tr>\n",
       "    <tr>\n",
       "      <th>2</th>\n",
       "      <td>42.428707459000066</td>\n",
       "      <td>-83.22754809599996</td>\n",
       "      <td>18735 STAHELIN,Detroit, MI</td>\n",
       "    </tr>\n",
       "    <tr>\n",
       "      <th>3</th>\n",
       "      <td>42.44169828400004</td>\n",
       "      <td>-83.14501821599998</td>\n",
       "      <td>20125 MONICA,Detroit, MI</td>\n",
       "    </tr>\n",
       "    <tr>\n",
       "      <th>4</th>\n",
       "      <td>42.42031769500005</td>\n",
       "      <td>-83.14532817999998</td>\n",
       "      <td>17397 PRAIRIE,Detroit, MI</td>\n",
       "    </tr>\n",
       "  </tbody>\n",
       "</table>\n",
       "</div>"
      ],
      "text/plain": [
       "                  LAT                 LONG                      address\n",
       "0   42.36318237000006   -83.09167672099994  2566 GRAND BLVD,Detroit, MI\n",
       "1  42.429390762000025   -83.22039357799997     19014 ASHTON,Detroit, MI\n",
       "2  42.428707459000066   -83.22754809599996   18735 STAHELIN,Detroit, MI\n",
       "3   42.44169828400004   -83.14501821599998     20125 MONICA,Detroit, MI\n",
       "4   42.42031769500005   -83.14532817999998    17397 PRAIRIE,Detroit, MI"
      ]
     },
     "execution_count": 22,
     "metadata": {},
     "output_type": "execute_result"
    }
   ],
   "source": [
    "locations.head()"
   ]
  },
  {
   "cell_type": "code",
   "execution_count": 23,
   "metadata": {},
   "outputs": [],
   "source": [
    "violations[['V_LAT','V_LONG','V_addr']] = locations\n",
    "violations[['M_LAT','M_LONG','M_addr']] = locations2"
   ]
  },
  {
   "cell_type": "code",
   "execution_count": 24,
   "metadata": {},
   "outputs": [],
   "source": [
    "locations = pd.concat([locations,locations2],axis=0)"
   ]
  },
  {
   "cell_type": "code",
   "execution_count": 25,
   "metadata": {},
   "outputs": [
    {
     "data": {
      "text/html": [
       "<div>\n",
       "<style scoped>\n",
       "    .dataframe tbody tr th:only-of-type {\n",
       "        vertical-align: middle;\n",
       "    }\n",
       "\n",
       "    .dataframe tbody tr th {\n",
       "        vertical-align: top;\n",
       "    }\n",
       "\n",
       "    .dataframe thead th {\n",
       "        text-align: right;\n",
       "    }\n",
       "</style>\n",
       "<table border=\"1\" class=\"dataframe\">\n",
       "  <thead>\n",
       "    <tr style=\"text-align: right;\">\n",
       "      <th></th>\n",
       "      <th></th>\n",
       "      <th>address</th>\n",
       "    </tr>\n",
       "    <tr>\n",
       "      <th>LAT</th>\n",
       "      <th>LONG</th>\n",
       "      <th></th>\n",
       "    </tr>\n",
       "  </thead>\n",
       "  <tbody>\n",
       "    <tr>\n",
       "      <th>42.33168113800008</th>\n",
       "      <th>-83.04799603699996</th>\n",
       "      <td>42128</td>\n",
       "    </tr>\n",
       "    <tr>\n",
       "      <th>42.33438171200004</th>\n",
       "      <th>-83.21603845099997</th>\n",
       "      <td>8922</td>\n",
       "    </tr>\n",
       "    <tr>\n",
       "      <th>42.415907437000044</th>\n",
       "      <th>-83.12130742199997</th>\n",
       "      <td>3981</td>\n",
       "    </tr>\n",
       "    <tr>\n",
       "      <th>42.34527907900008</th>\n",
       "      <th>-83.21652410599995</th>\n",
       "      <td>3417</td>\n",
       "    </tr>\n",
       "    <tr>\n",
       "      <th>42.345632866000074</th>\n",
       "      <th>-83.00881230999994</th>\n",
       "      <td>2736</td>\n",
       "    </tr>\n",
       "    <tr>\n",
       "      <th>42.35322741400006</th>\n",
       "      <th>-83.08587461999997</th>\n",
       "      <td>2273</td>\n",
       "    </tr>\n",
       "    <tr>\n",
       "      <th>42.38949192100006</th>\n",
       "      <th>-83.00924186699996</th>\n",
       "      <td>1510</td>\n",
       "    </tr>\n",
       "    <tr>\n",
       "      <th>42.37507307900006</th>\n",
       "      <th>-83.11454665499997</th>\n",
       "      <td>1482</td>\n",
       "    </tr>\n",
       "    <tr>\n",
       "      <th>42.328933300000074</th>\n",
       "      <th>-83.22547235699994</th>\n",
       "      <td>1277</td>\n",
       "    </tr>\n",
       "    <tr>\n",
       "      <th>42.332503089000056</th>\n",
       "      <th>-83.04975361999999</th>\n",
       "      <td>1246</td>\n",
       "    </tr>\n",
       "  </tbody>\n",
       "</table>\n",
       "</div>"
      ],
      "text/plain": [
       "                                        address\n",
       "LAT                LONG                        \n",
       "42.33168113800008   -83.04799603699996    42128\n",
       "42.33438171200004   -83.21603845099997     8922\n",
       "42.415907437000044  -83.12130742199997     3981\n",
       "42.34527907900008   -83.21652410599995     3417\n",
       "42.345632866000074  -83.00881230999994     2736\n",
       "42.35322741400006   -83.08587461999997     2273\n",
       "42.38949192100006   -83.00924186699996     1510\n",
       "42.37507307900006   -83.11454665499997     1482\n",
       "42.328933300000074  -83.22547235699994     1277\n",
       "42.332503089000056  -83.04975361999999     1246"
      ]
     },
     "execution_count": 25,
     "metadata": {},
     "output_type": "execute_result"
    }
   ],
   "source": [
    "locations.groupby(['LAT','LONG']).count().sort_values('address',ascending=False).head(10)"
   ]
  },
  {
   "cell_type": "code",
   "execution_count": 26,
   "metadata": {},
   "outputs": [
    {
     "data": {
      "text/plain": [
       "(615608, 3)"
      ]
     },
     "execution_count": 26,
     "metadata": {},
     "output_type": "execute_result"
    }
   ],
   "source": [
    "locations.shape"
   ]
  },
  {
   "cell_type": "code",
   "execution_count": 27,
   "metadata": {},
   "outputs": [],
   "source": [
    "locations = locations.drop_duplicates(['LAT','LONG'])"
   ]
  },
  {
   "cell_type": "code",
   "execution_count": 28,
   "metadata": {},
   "outputs": [
    {
     "data": {
      "text/plain": [
       "(96314, 3)"
      ]
     },
     "execution_count": 28,
     "metadata": {},
     "output_type": "execute_result"
    }
   ],
   "source": [
    "locations.shape"
   ]
  },
  {
   "cell_type": "markdown",
   "metadata": {},
   "source": [
    "## Complaints Data"
   ]
  },
  {
   "cell_type": "code",
   "execution_count": 29,
   "metadata": {},
   "outputs": [
    {
     "data": {
      "text/html": [
       "<div>\n",
       "<style scoped>\n",
       "    .dataframe tbody tr th:only-of-type {\n",
       "        vertical-align: middle;\n",
       "    }\n",
       "\n",
       "    .dataframe tbody tr th {\n",
       "        vertical-align: top;\n",
       "    }\n",
       "\n",
       "    .dataframe thead th {\n",
       "        text-align: right;\n",
       "    }\n",
       "</style>\n",
       "<table border=\"1\" class=\"dataframe\">\n",
       "  <thead>\n",
       "    <tr style=\"text-align: right;\">\n",
       "      <th></th>\n",
       "      <th>lat</th>\n",
       "      <th>lng</th>\n",
       "      <th>location</th>\n",
       "    </tr>\n",
       "  </thead>\n",
       "  <tbody>\n",
       "    <tr>\n",
       "      <th>0</th>\n",
       "      <td>42.383998</td>\n",
       "      <td>-83.161039</td>\n",
       "      <td>(42.3839977668, -83.1610385642)</td>\n",
       "    </tr>\n",
       "    <tr>\n",
       "      <th>1</th>\n",
       "      <td>42.440471</td>\n",
       "      <td>-83.080919</td>\n",
       "      <td>(42.4404708, -83.080919)</td>\n",
       "    </tr>\n",
       "    <tr>\n",
       "      <th>2</th>\n",
       "      <td>42.445244</td>\n",
       "      <td>-82.962038</td>\n",
       "      <td>(42.445244, -82.962038)</td>\n",
       "    </tr>\n",
       "    <tr>\n",
       "      <th>3</th>\n",
       "      <td>42.421043</td>\n",
       "      <td>-83.166194</td>\n",
       "      <td>(42.421043, -83.166194)</td>\n",
       "    </tr>\n",
       "    <tr>\n",
       "      <th>4</th>\n",
       "      <td>42.402033</td>\n",
       "      <td>-83.162874</td>\n",
       "      <td>(42.4020334, -83.1628741)</td>\n",
       "    </tr>\n",
       "    <tr>\n",
       "      <th>5</th>\n",
       "      <td>42.399431</td>\n",
       "      <td>-83.158100</td>\n",
       "      <td>(42.399431, -83.1581)</td>\n",
       "    </tr>\n",
       "    <tr>\n",
       "      <th>6</th>\n",
       "      <td>42.439669</td>\n",
       "      <td>-83.240740</td>\n",
       "      <td>(42.439669, -83.24074)</td>\n",
       "    </tr>\n",
       "    <tr>\n",
       "      <th>7</th>\n",
       "      <td>42.430693</td>\n",
       "      <td>-83.053367</td>\n",
       "      <td>(42.4306931, -83.0533671)</td>\n",
       "    </tr>\n",
       "    <tr>\n",
       "      <th>8</th>\n",
       "      <td>42.410764</td>\n",
       "      <td>-83.161803</td>\n",
       "      <td>(42.410764, -83.161803)</td>\n",
       "    </tr>\n",
       "    <tr>\n",
       "      <th>9</th>\n",
       "      <td>42.437114</td>\n",
       "      <td>-83.152779</td>\n",
       "      <td>(42.437114, -83.152779)</td>\n",
       "    </tr>\n",
       "  </tbody>\n",
       "</table>\n",
       "</div>"
      ],
      "text/plain": [
       "         lat        lng                         location\n",
       "0  42.383998 -83.161039  (42.3839977668, -83.1610385642)\n",
       "1  42.440471 -83.080919         (42.4404708, -83.080919)\n",
       "2  42.445244 -82.962038          (42.445244, -82.962038)\n",
       "3  42.421043 -83.166194          (42.421043, -83.166194)\n",
       "4  42.402033 -83.162874        (42.4020334, -83.1628741)\n",
       "5  42.399431 -83.158100            (42.399431, -83.1581)\n",
       "6  42.439669 -83.240740           (42.439669, -83.24074)\n",
       "7  42.430693 -83.053367        (42.4306931, -83.0533671)\n",
       "8  42.410764 -83.161803          (42.410764, -83.161803)\n",
       "9  42.437114 -83.152779          (42.437114, -83.152779)"
      ]
     },
     "execution_count": 29,
     "metadata": {},
     "output_type": "execute_result"
    }
   ],
   "source": [
    "complaints[['lat','lng','location']].head(10)"
   ]
  },
  {
   "cell_type": "code",
   "execution_count": 30,
   "metadata": {},
   "outputs": [],
   "source": [
    "complaints_loc = complaints[['address','location']]"
   ]
  },
  {
   "cell_type": "code",
   "execution_count": 31,
   "metadata": {},
   "outputs": [
    {
     "name": "stderr",
     "output_type": "stream",
     "text": [
      "/home/ishaan/ishaan/lib/python3.6/site-packages/pandas/core/frame.py:3391: SettingWithCopyWarning: \n",
      "A value is trying to be set on a copy of a slice from a DataFrame.\n",
      "Try using .loc[row_indexer,col_indexer] = value instead\n",
      "\n",
      "See the caveats in the documentation: http://pandas.pydata.org/pandas-docs/stable/indexing.html#indexing-view-versus-copy\n",
      "  self[k1] = value[k2]\n"
     ]
    },
    {
     "data": {
      "text/html": [
       "<div>\n",
       "<style scoped>\n",
       "    .dataframe tbody tr th:only-of-type {\n",
       "        vertical-align: middle;\n",
       "    }\n",
       "\n",
       "    .dataframe tbody tr th {\n",
       "        vertical-align: top;\n",
       "    }\n",
       "\n",
       "    .dataframe thead th {\n",
       "        text-align: right;\n",
       "    }\n",
       "</style>\n",
       "<table border=\"1\" class=\"dataframe\">\n",
       "  <thead>\n",
       "    <tr style=\"text-align: right;\">\n",
       "      <th></th>\n",
       "      <th>address</th>\n",
       "      <th>location</th>\n",
       "      <th>LAT</th>\n",
       "      <th>LONG</th>\n",
       "    </tr>\n",
       "  </thead>\n",
       "  <tbody>\n",
       "    <tr>\n",
       "      <th>0</th>\n",
       "      <td>13120-13130 Ilene Street Detroit, MI 48238, USA</td>\n",
       "      <td>(42.3839977668, -83.1610385642)</td>\n",
       "      <td>42.3839977668</td>\n",
       "      <td>-83.1610385642</td>\n",
       "    </tr>\n",
       "    <tr>\n",
       "      <th>1</th>\n",
       "      <td>1485 E. Outer Drive Detroit, Michigan</td>\n",
       "      <td>(42.4404708, -83.080919)</td>\n",
       "      <td>42.4404708</td>\n",
       "      <td>-83.080919</td>\n",
       "    </tr>\n",
       "    <tr>\n",
       "      <th>2</th>\n",
       "      <td>15460 Eastburn Detroit, Michigan</td>\n",
       "      <td>(42.445244, -82.962038)</td>\n",
       "      <td>42.445244</td>\n",
       "      <td>-82.962038</td>\n",
       "    </tr>\n",
       "    <tr>\n",
       "      <th>3</th>\n",
       "      <td>17541 Mendota St Detroit, Michigan</td>\n",
       "      <td>(42.421043, -83.166194)</td>\n",
       "      <td>42.421043</td>\n",
       "      <td>-83.166194</td>\n",
       "    </tr>\n",
       "    <tr>\n",
       "      <th>4</th>\n",
       "      <td>Griggs Detroit, Michigan</td>\n",
       "      <td>(42.4020334, -83.1628741)</td>\n",
       "      <td>42.4020334</td>\n",
       "      <td>-83.1628741</td>\n",
       "    </tr>\n",
       "  </tbody>\n",
       "</table>\n",
       "</div>"
      ],
      "text/plain": [
       "                                           address  \\\n",
       "0  13120-13130 Ilene Street Detroit, MI 48238, USA   \n",
       "1            1485 E. Outer Drive Detroit, Michigan   \n",
       "2                 15460 Eastburn Detroit, Michigan   \n",
       "3               17541 Mendota St Detroit, Michigan   \n",
       "4                         Griggs Detroit, Michigan   \n",
       "\n",
       "                          location            LAT             LONG  \n",
       "0  (42.3839977668, -83.1610385642)  42.3839977668   -83.1610385642  \n",
       "1         (42.4404708, -83.080919)     42.4404708       -83.080919  \n",
       "2          (42.445244, -82.962038)      42.445244       -82.962038  \n",
       "3          (42.421043, -83.166194)      42.421043       -83.166194  \n",
       "4        (42.4020334, -83.1628741)     42.4020334      -83.1628741  "
      ]
     },
     "execution_count": 31,
     "metadata": {},
     "output_type": "execute_result"
    }
   ],
   "source": [
    "complaints_loc[['LAT','LONG']] = complaints_loc.iloc[:,1].str.replace(\"(\",\"\").str.replace(\")\",\"\").str.split(\",\",expand=True)\n",
    "complaints_loc.head()"
   ]
  },
  {
   "cell_type": "code",
   "execution_count": 32,
   "metadata": {},
   "outputs": [
    {
     "name": "stderr",
     "output_type": "stream",
     "text": [
      "/home/ishaan/ishaan/lib/python3.6/site-packages/pandas/core/frame.py:3940: SettingWithCopyWarning: \n",
      "A value is trying to be set on a copy of a slice from a DataFrame\n",
      "\n",
      "See the caveats in the documentation: http://pandas.pydata.org/pandas-docs/stable/indexing.html#indexing-view-versus-copy\n",
      "  errors=errors)\n"
     ]
    }
   ],
   "source": [
    "complaints_loc.drop('location',axis=1,inplace=True)"
   ]
  },
  {
   "cell_type": "code",
   "execution_count": 33,
   "metadata": {},
   "outputs": [
    {
     "data": {
      "text/plain": [
       "(19680, 3)"
      ]
     },
     "execution_count": 33,
     "metadata": {},
     "output_type": "execute_result"
    }
   ],
   "source": [
    "complaints_loc.shape"
   ]
  },
  {
   "cell_type": "code",
   "execution_count": 34,
   "metadata": {},
   "outputs": [],
   "source": [
    "cols = ['LAT','LONG','address']\n",
    "complaints_loc = complaints_loc[cols]\n",
    "complaints_loc.drop_duplicates(['LAT','LONG'],inplace=True)\n"
   ]
  },
  {
   "cell_type": "code",
   "execution_count": 35,
   "metadata": {},
   "outputs": [
    {
     "data": {
      "text/plain": [
       "(17279, 3)"
      ]
     },
     "execution_count": 35,
     "metadata": {},
     "output_type": "execute_result"
    }
   ],
   "source": [
    "complaints_loc.shape"
   ]
  },
  {
   "cell_type": "code",
   "execution_count": 36,
   "metadata": {},
   "outputs": [],
   "source": [
    "locations = pd.concat([locations,complaints_loc],axis=0)"
   ]
  },
  {
   "cell_type": "code",
   "execution_count": 37,
   "metadata": {},
   "outputs": [
    {
     "data": {
      "text/plain": [
       "(113593, 3)"
      ]
     },
     "execution_count": 37,
     "metadata": {},
     "output_type": "execute_result"
    }
   ],
   "source": [
    "locations.shape"
   ]
  },
  {
   "cell_type": "markdown",
   "metadata": {},
   "source": [
    "## Crimes Data"
   ]
  },
  {
   "cell_type": "code",
   "execution_count": 38,
   "metadata": {},
   "outputs": [
    {
     "data": {
      "text/html": [
       "<div>\n",
       "<style scoped>\n",
       "    .dataframe tbody tr th:only-of-type {\n",
       "        vertical-align: middle;\n",
       "    }\n",
       "\n",
       "    .dataframe tbody tr th {\n",
       "        vertical-align: top;\n",
       "    }\n",
       "\n",
       "    .dataframe thead th {\n",
       "        text-align: right;\n",
       "    }\n",
       "</style>\n",
       "<table border=\"1\" class=\"dataframe\">\n",
       "  <thead>\n",
       "    <tr style=\"text-align: right;\">\n",
       "      <th></th>\n",
       "      <th>ROWNUM</th>\n",
       "      <th>CASEID</th>\n",
       "      <th>INCINO</th>\n",
       "      <th>CATEGORY</th>\n",
       "      <th>OFFENSEDESCRIPTION</th>\n",
       "      <th>STATEOFFENSEFILECLASS</th>\n",
       "      <th>INCIDENTDATE</th>\n",
       "      <th>HOUR</th>\n",
       "      <th>SCA</th>\n",
       "      <th>PRECINCT</th>\n",
       "      <th>COUNCIL</th>\n",
       "      <th>NEIGHBORHOOD</th>\n",
       "      <th>CENSUSTRACT</th>\n",
       "      <th>ADDRESS</th>\n",
       "      <th>LON</th>\n",
       "      <th>LAT</th>\n",
       "      <th>LOCATION</th>\n",
       "    </tr>\n",
       "  </thead>\n",
       "  <tbody>\n",
       "    <tr>\n",
       "      <th>0</th>\n",
       "      <td>53256</td>\n",
       "      <td>1953933</td>\n",
       "      <td>1506030028.1</td>\n",
       "      <td>ASSAULT</td>\n",
       "      <td>ASSAULT AND BATTERY/SIMPLE ASSAULT</td>\n",
       "      <td>13001.0</td>\n",
       "      <td>06/03/2015 12:00:00 AM</td>\n",
       "      <td>2</td>\n",
       "      <td>1007.0</td>\n",
       "      <td>10.0</td>\n",
       "      <td>City Council District 5</td>\n",
       "      <td>PETOSKEY-OTSEGO</td>\n",
       "      <td>5334.0</td>\n",
       "      <td>09100 PETOSKEY</td>\n",
       "      <td>-83.1221</td>\n",
       "      <td>42.3678</td>\n",
       "      <td>PETOSKEY\\n09100\\n(42.3676, -83.1219)</td>\n",
       "    </tr>\n",
       "    <tr>\n",
       "      <th>1</th>\n",
       "      <td>17631</td>\n",
       "      <td>1917717</td>\n",
       "      <td>1503010158.1</td>\n",
       "      <td>LARCENY</td>\n",
       "      <td>LARCENY - PARTS AND ACCESSORIES FROM VEHICLE</td>\n",
       "      <td>23006.0</td>\n",
       "      <td>03/01/2015 12:00:00 AM</td>\n",
       "      <td>9</td>\n",
       "      <td>608.0</td>\n",
       "      <td>6.0</td>\n",
       "      <td>City Council District 7</td>\n",
       "      <td>GRANDALE</td>\n",
       "      <td>5452.0</td>\n",
       "      <td>00 PLYMOUTH AND MANSFIELD</td>\n",
       "      <td>-83.2035</td>\n",
       "      <td>42.3724</td>\n",
       "      <td>00 PLYMOUTH AND MANSFIELD\\n(42.3725, -83.2033)</td>\n",
       "    </tr>\n",
       "    <tr>\n",
       "      <th>2</th>\n",
       "      <td>11207</td>\n",
       "      <td>1910955</td>\n",
       "      <td>1502080223.1</td>\n",
       "      <td>STOLEN VEHICLE</td>\n",
       "      <td>VEHICLE THEFT</td>\n",
       "      <td>24001.0</td>\n",
       "      <td>02/08/2015 12:00:00 AM</td>\n",
       "      <td>18</td>\n",
       "      <td>1105.0</td>\n",
       "      <td>11.0</td>\n",
       "      <td>City Council District 3</td>\n",
       "      <td>OUTER DRIVE VAN DYKE</td>\n",
       "      <td>5051.0</td>\n",
       "      <td>00 E 7 MILE  VAN DYKE</td>\n",
       "      <td>-83.0241</td>\n",
       "      <td>42.4338</td>\n",
       "      <td>00 E 7 MILE VAN DYKE\\n(42.4339, -83.0241)</td>\n",
       "    </tr>\n",
       "    <tr>\n",
       "      <th>3</th>\n",
       "      <td>116589</td>\n",
       "      <td>2018186</td>\n",
       "      <td>1511090188.1</td>\n",
       "      <td>WEAPONS OFFENSES</td>\n",
       "      <td>WEAPONS OFFENSE (OTHER)</td>\n",
       "      <td>52003.0</td>\n",
       "      <td>11/09/2015 12:00:00 AM</td>\n",
       "      <td>12</td>\n",
       "      <td>210.0</td>\n",
       "      <td>2.0</td>\n",
       "      <td>City Council District 6</td>\n",
       "      <td>TIREMAN</td>\n",
       "      <td>NaN</td>\n",
       "      <td>06600 BARTON</td>\n",
       "      <td>-83.1381</td>\n",
       "      <td>42.3496</td>\n",
       "      <td>BARTON\\n06600\\n(42.3494, -83.1379)</td>\n",
       "    </tr>\n",
       "    <tr>\n",
       "      <th>4</th>\n",
       "      <td>85790</td>\n",
       "      <td>1986862</td>\n",
       "      <td>1508239803.1</td>\n",
       "      <td>LARCENY</td>\n",
       "      <td>LARCENY - PARTS AND ACCESSORIES FROM VEHICLE</td>\n",
       "      <td>23006.0</td>\n",
       "      <td>08/14/2015 12:00:00 AM</td>\n",
       "      <td>7</td>\n",
       "      <td>309.0</td>\n",
       "      <td>3.0</td>\n",
       "      <td>City Council District 6</td>\n",
       "      <td>WEST CANFIELD</td>\n",
       "      <td>5204.0</td>\n",
       "      <td>00900 W WILLIS</td>\n",
       "      <td>-83.0692</td>\n",
       "      <td>42.3481</td>\n",
       "      <td>W WILLIS\\n00900\\n(42.3481, -83.0693)</td>\n",
       "    </tr>\n",
       "  </tbody>\n",
       "</table>\n",
       "</div>"
      ],
      "text/plain": [
       "   ROWNUM   CASEID        INCINO          CATEGORY  \\\n",
       "0   53256  1953933  1506030028.1           ASSAULT   \n",
       "1   17631  1917717  1503010158.1           LARCENY   \n",
       "2   11207  1910955  1502080223.1    STOLEN VEHICLE   \n",
       "3  116589  2018186  1511090188.1  WEAPONS OFFENSES   \n",
       "4   85790  1986862  1508239803.1           LARCENY   \n",
       "\n",
       "                             OFFENSEDESCRIPTION  STATEOFFENSEFILECLASS  \\\n",
       "0            ASSAULT AND BATTERY/SIMPLE ASSAULT                13001.0   \n",
       "1  LARCENY - PARTS AND ACCESSORIES FROM VEHICLE                23006.0   \n",
       "2                                 VEHICLE THEFT                24001.0   \n",
       "3                       WEAPONS OFFENSE (OTHER)                52003.0   \n",
       "4  LARCENY - PARTS AND ACCESSORIES FROM VEHICLE                23006.0   \n",
       "\n",
       "             INCIDENTDATE  HOUR     SCA  PRECINCT                  COUNCIL  \\\n",
       "0  06/03/2015 12:00:00 AM     2  1007.0      10.0  City Council District 5   \n",
       "1  03/01/2015 12:00:00 AM     9   608.0       6.0  City Council District 7   \n",
       "2  02/08/2015 12:00:00 AM    18  1105.0      11.0  City Council District 3   \n",
       "3  11/09/2015 12:00:00 AM    12   210.0       2.0  City Council District 6   \n",
       "4  08/14/2015 12:00:00 AM     7   309.0       3.0  City Council District 6   \n",
       "\n",
       "           NEIGHBORHOOD  CENSUSTRACT                    ADDRESS      LON  \\\n",
       "0       PETOSKEY-OTSEGO       5334.0             09100 PETOSKEY -83.1221   \n",
       "1              GRANDALE       5452.0  00 PLYMOUTH AND MANSFIELD -83.2035   \n",
       "2  OUTER DRIVE VAN DYKE       5051.0      00 E 7 MILE  VAN DYKE -83.0241   \n",
       "3               TIREMAN          NaN               06600 BARTON -83.1381   \n",
       "4         WEST CANFIELD       5204.0             00900 W WILLIS -83.0692   \n",
       "\n",
       "       LAT                                        LOCATION  \n",
       "0  42.3678            PETOSKEY\\n09100\\n(42.3676, -83.1219)  \n",
       "1  42.3724  00 PLYMOUTH AND MANSFIELD\\n(42.3725, -83.2033)  \n",
       "2  42.4338       00 E 7 MILE VAN DYKE\\n(42.4339, -83.0241)  \n",
       "3  42.3496              BARTON\\n06600\\n(42.3494, -83.1379)  \n",
       "4  42.3481            W WILLIS\\n00900\\n(42.3481, -83.0693)  "
      ]
     },
     "execution_count": 38,
     "metadata": {},
     "output_type": "execute_result"
    }
   ],
   "source": [
    "crimes.head()"
   ]
  },
  {
   "cell_type": "code",
   "execution_count": 39,
   "metadata": {},
   "outputs": [
    {
     "data": {
      "text/plain": [
       "(119931, 3)"
      ]
     },
     "execution_count": 39,
     "metadata": {},
     "output_type": "execute_result"
    }
   ],
   "source": [
    "crime_loc = crimes[['LON','LAT','ADDRESS']]\n",
    "crime_loc.columns = ['LONG','LAT','address']\n",
    "crime_loc = crime_loc[['LAT','LONG','address']]\n",
    "crime_loc.shape"
   ]
  },
  {
   "cell_type": "code",
   "execution_count": 40,
   "metadata": {},
   "outputs": [],
   "source": [
    "crime_loc = crime_loc.dropna()"
   ]
  },
  {
   "cell_type": "code",
   "execution_count": 41,
   "metadata": {},
   "outputs": [
    {
     "data": {
      "text/plain": [
       "(103843, 3)"
      ]
     },
     "execution_count": 41,
     "metadata": {},
     "output_type": "execute_result"
    }
   ],
   "source": [
    "crime_loc.drop_duplicates(['LONG','LAT'],inplace=True)\n",
    "crime_loc.shape"
   ]
  },
  {
   "cell_type": "code",
   "execution_count": 42,
   "metadata": {},
   "outputs": [
    {
     "data": {
      "text/html": [
       "<div>\n",
       "<style scoped>\n",
       "    .dataframe tbody tr th:only-of-type {\n",
       "        vertical-align: middle;\n",
       "    }\n",
       "\n",
       "    .dataframe tbody tr th {\n",
       "        vertical-align: top;\n",
       "    }\n",
       "\n",
       "    .dataframe thead th {\n",
       "        text-align: right;\n",
       "    }\n",
       "</style>\n",
       "<table border=\"1\" class=\"dataframe\">\n",
       "  <thead>\n",
       "    <tr style=\"text-align: right;\">\n",
       "      <th></th>\n",
       "      <th>LAT</th>\n",
       "      <th>LONG</th>\n",
       "      <th>address</th>\n",
       "    </tr>\n",
       "  </thead>\n",
       "  <tbody>\n",
       "    <tr>\n",
       "      <th>0</th>\n",
       "      <td>42.3678</td>\n",
       "      <td>-83.1221</td>\n",
       "      <td>09100 PETOSKEY</td>\n",
       "    </tr>\n",
       "    <tr>\n",
       "      <th>1</th>\n",
       "      <td>42.3724</td>\n",
       "      <td>-83.2035</td>\n",
       "      <td>00 PLYMOUTH AND MANSFIELD</td>\n",
       "    </tr>\n",
       "    <tr>\n",
       "      <th>2</th>\n",
       "      <td>42.4338</td>\n",
       "      <td>-83.0241</td>\n",
       "      <td>00 E 7 MILE  VAN DYKE</td>\n",
       "    </tr>\n",
       "    <tr>\n",
       "      <th>3</th>\n",
       "      <td>42.3496</td>\n",
       "      <td>-83.1381</td>\n",
       "      <td>06600 BARTON</td>\n",
       "    </tr>\n",
       "    <tr>\n",
       "      <th>4</th>\n",
       "      <td>42.3481</td>\n",
       "      <td>-83.0692</td>\n",
       "      <td>00900 W WILLIS</td>\n",
       "    </tr>\n",
       "  </tbody>\n",
       "</table>\n",
       "</div>"
      ],
      "text/plain": [
       "       LAT     LONG                    address\n",
       "0  42.3678 -83.1221             09100 PETOSKEY\n",
       "1  42.3724 -83.2035  00 PLYMOUTH AND MANSFIELD\n",
       "2  42.4338 -83.0241      00 E 7 MILE  VAN DYKE\n",
       "3  42.3496 -83.1381               06600 BARTON\n",
       "4  42.3481 -83.0692             00900 W WILLIS"
      ]
     },
     "execution_count": 42,
     "metadata": {},
     "output_type": "execute_result"
    }
   ],
   "source": [
    "crime_loc.head()"
   ]
  },
  {
   "cell_type": "code",
   "execution_count": 43,
   "metadata": {},
   "outputs": [],
   "source": [
    "locations = pd.concat([locations,crime_loc])"
   ]
  },
  {
   "cell_type": "markdown",
   "metadata": {},
   "source": [
    "## Permits Data"
   ]
  },
  {
   "cell_type": "code",
   "execution_count": 44,
   "metadata": {},
   "outputs": [],
   "source": [
    "site_loc = permits['site_location']\n",
    "site_loc.dropna(inplace=True)"
   ]
  },
  {
   "cell_type": "code",
   "execution_count": 45,
   "metadata": {},
   "outputs": [],
   "source": [
    "site_loc = site_loc.str.split('\\n',expand=True)"
   ]
  },
  {
   "cell_type": "code",
   "execution_count": 46,
   "metadata": {},
   "outputs": [
    {
     "data": {
      "text/html": [
       "<div>\n",
       "<style scoped>\n",
       "    .dataframe tbody tr th:only-of-type {\n",
       "        vertical-align: middle;\n",
       "    }\n",
       "\n",
       "    .dataframe tbody tr th {\n",
       "        vertical-align: top;\n",
       "    }\n",
       "\n",
       "    .dataframe thead th {\n",
       "        text-align: right;\n",
       "    }\n",
       "</style>\n",
       "<table border=\"1\" class=\"dataframe\">\n",
       "  <thead>\n",
       "    <tr style=\"text-align: right;\">\n",
       "      <th></th>\n",
       "      <th>0</th>\n",
       "      <th>1</th>\n",
       "      <th>2</th>\n",
       "    </tr>\n",
       "  </thead>\n",
       "  <tbody>\n",
       "    <tr>\n",
       "      <th>0</th>\n",
       "      <td>4331 BARHAM</td>\n",
       "      <td>Detroit, MI</td>\n",
       "      <td>(42.394106, -82.9474)</td>\n",
       "    </tr>\n",
       "    <tr>\n",
       "      <th>1</th>\n",
       "      <td>9707 BESSEMORE</td>\n",
       "      <td>Detroit, MI</td>\n",
       "      <td>(42.395122, -83.005077)</td>\n",
       "    </tr>\n",
       "    <tr>\n",
       "      <th>2</th>\n",
       "      <td>5315 BERKSHIRE</td>\n",
       "      <td>Detroit, MI</td>\n",
       "      <td>(42.40322, -82.946476)</td>\n",
       "    </tr>\n",
       "    <tr>\n",
       "      <th>3</th>\n",
       "      <td>16670 BRINGARD DR</td>\n",
       "      <td>Detroit, MI</td>\n",
       "      <td>(42.44664, -82.947207)</td>\n",
       "    </tr>\n",
       "    <tr>\n",
       "      <th>4</th>\n",
       "      <td>1454 BEATRICE</td>\n",
       "      <td>Detroit, MI</td>\n",
       "      <td>(42.276956, -83.147536)</td>\n",
       "    </tr>\n",
       "  </tbody>\n",
       "</table>\n",
       "</div>"
      ],
      "text/plain": [
       "                   0            1                        2\n",
       "0        4331 BARHAM  Detroit, MI    (42.394106, -82.9474)\n",
       "1     9707 BESSEMORE  Detroit, MI  (42.395122, -83.005077)\n",
       "2     5315 BERKSHIRE  Detroit, MI   (42.40322, -82.946476)\n",
       "3  16670 BRINGARD DR  Detroit, MI   (42.44664, -82.947207)\n",
       "4      1454 BEATRICE  Detroit, MI  (42.276956, -83.147536)"
      ]
     },
     "execution_count": 46,
     "metadata": {},
     "output_type": "execute_result"
    }
   ],
   "source": [
    "site_loc.head()"
   ]
  },
  {
   "cell_type": "code",
   "execution_count": 49,
   "metadata": {},
   "outputs": [],
   "source": [
    "site_loc[['LAT','LONG']] = site_loc.iloc[:,2].str.replace(\"(\",\"\").str.replace(\")\",\"\").str.split(\",\",expand=True)\n"
   ]
  },
  {
   "cell_type": "code",
   "execution_count": 50,
   "metadata": {},
   "outputs": [],
   "source": [
    "site_loc.drop(2,axis=1,inplace=True)"
   ]
  },
  {
   "cell_type": "code",
   "execution_count": 51,
   "metadata": {},
   "outputs": [
    {
     "data": {
      "text/html": [
       "<div>\n",
       "<style scoped>\n",
       "    .dataframe tbody tr th:only-of-type {\n",
       "        vertical-align: middle;\n",
       "    }\n",
       "\n",
       "    .dataframe tbody tr th {\n",
       "        vertical-align: top;\n",
       "    }\n",
       "\n",
       "    .dataframe thead th {\n",
       "        text-align: right;\n",
       "    }\n",
       "</style>\n",
       "<table border=\"1\" class=\"dataframe\">\n",
       "  <thead>\n",
       "    <tr style=\"text-align: right;\">\n",
       "      <th></th>\n",
       "      <th>LAT</th>\n",
       "      <th>LONG</th>\n",
       "      <th>address</th>\n",
       "    </tr>\n",
       "  </thead>\n",
       "  <tbody>\n",
       "    <tr>\n",
       "      <th>0</th>\n",
       "      <td>42.394106</td>\n",
       "      <td>-82.9474</td>\n",
       "      <td>4331 BARHAM,Detroit, MI</td>\n",
       "    </tr>\n",
       "    <tr>\n",
       "      <th>1</th>\n",
       "      <td>42.395122</td>\n",
       "      <td>-83.005077</td>\n",
       "      <td>9707 BESSEMORE,Detroit, MI</td>\n",
       "    </tr>\n",
       "    <tr>\n",
       "      <th>2</th>\n",
       "      <td>42.40322</td>\n",
       "      <td>-82.946476</td>\n",
       "      <td>5315 BERKSHIRE,Detroit, MI</td>\n",
       "    </tr>\n",
       "    <tr>\n",
       "      <th>3</th>\n",
       "      <td>42.44664</td>\n",
       "      <td>-82.947207</td>\n",
       "      <td>16670 BRINGARD DR,Detroit, MI</td>\n",
       "    </tr>\n",
       "    <tr>\n",
       "      <th>4</th>\n",
       "      <td>42.276956</td>\n",
       "      <td>-83.147536</td>\n",
       "      <td>1454 BEATRICE,Detroit, MI</td>\n",
       "    </tr>\n",
       "  </tbody>\n",
       "</table>\n",
       "</div>"
      ],
      "text/plain": [
       "         LAT         LONG                        address\n",
       "0  42.394106     -82.9474        4331 BARHAM,Detroit, MI\n",
       "1  42.395122   -83.005077     9707 BESSEMORE,Detroit, MI\n",
       "2   42.40322   -82.946476     5315 BERKSHIRE,Detroit, MI\n",
       "3   42.44664   -82.947207  16670 BRINGARD DR,Detroit, MI\n",
       "4  42.276956   -83.147536      1454 BEATRICE,Detroit, MI"
      ]
     },
     "execution_count": 51,
     "metadata": {},
     "output_type": "execute_result"
    }
   ],
   "source": [
    "site_loc['address'] = site_loc[0]+','+site_loc[1]\n",
    "site_loc = site_loc[['LAT','LONG','address']]\n",
    "site_loc.head()"
   ]
  },
  {
   "cell_type": "code",
   "execution_count": 52,
   "metadata": {},
   "outputs": [
    {
     "data": {
      "text/html": [
       "<div>\n",
       "<style scoped>\n",
       "    .dataframe tbody tr th:only-of-type {\n",
       "        vertical-align: middle;\n",
       "    }\n",
       "\n",
       "    .dataframe tbody tr th {\n",
       "        vertical-align: top;\n",
       "    }\n",
       "\n",
       "    .dataframe thead th {\n",
       "        text-align: right;\n",
       "    }\n",
       "</style>\n",
       "<table border=\"1\" class=\"dataframe\">\n",
       "  <thead>\n",
       "    <tr style=\"text-align: right;\">\n",
       "      <th></th>\n",
       "      <th>LAT</th>\n",
       "      <th>LONG</th>\n",
       "      <th>address</th>\n",
       "    </tr>\n",
       "  </thead>\n",
       "  <tbody>\n",
       "    <tr>\n",
       "      <th>0</th>\n",
       "      <td>42.36318237000006</td>\n",
       "      <td>-83.09167672099994</td>\n",
       "      <td>2566 GRAND BLVD,Detroit, MI</td>\n",
       "    </tr>\n",
       "    <tr>\n",
       "      <th>1</th>\n",
       "      <td>42.429390762000025</td>\n",
       "      <td>-83.22039357799997</td>\n",
       "      <td>19014 ASHTON,Detroit, MI</td>\n",
       "    </tr>\n",
       "    <tr>\n",
       "      <th>2</th>\n",
       "      <td>42.428707459000066</td>\n",
       "      <td>-83.22754809599996</td>\n",
       "      <td>18735 STAHELIN,Detroit, MI</td>\n",
       "    </tr>\n",
       "    <tr>\n",
       "      <th>3</th>\n",
       "      <td>42.44169828400004</td>\n",
       "      <td>-83.14501821599998</td>\n",
       "      <td>20125 MONICA,Detroit, MI</td>\n",
       "    </tr>\n",
       "    <tr>\n",
       "      <th>4</th>\n",
       "      <td>42.42031769500005</td>\n",
       "      <td>-83.14532817999998</td>\n",
       "      <td>17397 PRAIRIE,Detroit, MI</td>\n",
       "    </tr>\n",
       "  </tbody>\n",
       "</table>\n",
       "</div>"
      ],
      "text/plain": [
       "                  LAT                 LONG                      address\n",
       "0   42.36318237000006   -83.09167672099994  2566 GRAND BLVD,Detroit, MI\n",
       "1  42.429390762000025   -83.22039357799997     19014 ASHTON,Detroit, MI\n",
       "2  42.428707459000066   -83.22754809599996   18735 STAHELIN,Detroit, MI\n",
       "3   42.44169828400004   -83.14501821599998     20125 MONICA,Detroit, MI\n",
       "4   42.42031769500005   -83.14532817999998    17397 PRAIRIE,Detroit, MI"
      ]
     },
     "execution_count": 52,
     "metadata": {},
     "output_type": "execute_result"
    }
   ],
   "source": [
    "locations.head()"
   ]
  },
  {
   "cell_type": "code",
   "execution_count": 53,
   "metadata": {},
   "outputs": [],
   "source": [
    "locations = pd.concat([locations,site_loc],axis=0)"
   ]
  },
  {
   "cell_type": "code",
   "execution_count": 54,
   "metadata": {},
   "outputs": [
    {
     "data": {
      "text/plain": [
       "(223766, 3)"
      ]
     },
     "execution_count": 54,
     "metadata": {},
     "output_type": "execute_result"
    }
   ],
   "source": [
    "locations.shape"
   ]
  },
  {
   "cell_type": "code",
   "execution_count": 55,
   "metadata": {},
   "outputs": [
    {
     "data": {
      "text/plain": [
       "(222228, 3)"
      ]
     },
     "execution_count": 55,
     "metadata": {},
     "output_type": "execute_result"
    }
   ],
   "source": [
    "locations.drop_duplicates(['LAT','LONG'],inplace=True)\n",
    "locations.shape"
   ]
  },
  {
   "cell_type": "markdown",
   "metadata": {},
   "source": [
    "# Cleaning coordinates"
   ]
  },
  {
   "cell_type": "code",
   "execution_count": 56,
   "metadata": {},
   "outputs": [],
   "source": [
    "locations['LAT'] = pd.to_numeric(locations['LAT'])\n",
    "locations['LONG'] = pd.to_numeric(locations['LONG'])"
   ]
  },
  {
   "cell_type": "code",
   "execution_count": 57,
   "metadata": {},
   "outputs": [],
   "source": [
    "locations.dropna(inplace=True)"
   ]
  },
  {
   "cell_type": "code",
   "execution_count": 58,
   "metadata": {},
   "outputs": [
    {
     "data": {
      "text/plain": [
       "(222226, 3)"
      ]
     },
     "execution_count": 58,
     "metadata": {},
     "output_type": "execute_result"
    }
   ],
   "source": [
    "locations.shape"
   ]
  },
  {
   "cell_type": "code",
   "execution_count": 59,
   "metadata": {},
   "outputs": [],
   "source": [
    "loc_grouped = locations.groupby(['LAT','LONG'])['address'].agg(lambda col: \";\".join(col)).reset_index()"
   ]
  },
  {
   "cell_type": "code",
   "execution_count": 60,
   "metadata": {},
   "outputs": [
    {
     "data": {
      "text/html": [
       "<div>\n",
       "<style scoped>\n",
       "    .dataframe tbody tr th:only-of-type {\n",
       "        vertical-align: middle;\n",
       "    }\n",
       "\n",
       "    .dataframe tbody tr th {\n",
       "        vertical-align: top;\n",
       "    }\n",
       "\n",
       "    .dataframe thead th {\n",
       "        text-align: right;\n",
       "    }\n",
       "</style>\n",
       "<table border=\"1\" class=\"dataframe\">\n",
       "  <thead>\n",
       "    <tr style=\"text-align: right;\">\n",
       "      <th></th>\n",
       "      <th>LAT</th>\n",
       "      <th>LONG</th>\n",
       "      <th>address</th>\n",
       "    </tr>\n",
       "  </thead>\n",
       "  <tbody>\n",
       "    <tr>\n",
       "      <th>0</th>\n",
       "      <td>0.000000</td>\n",
       "      <td>0.000000</td>\n",
       "      <td>00 ANDOVER NEAR SEVEN MILE</td>\n",
       "    </tr>\n",
       "    <tr>\n",
       "      <th>1</th>\n",
       "      <td>25.820100</td>\n",
       "      <td>-80.122600</td>\n",
       "      <td>04600 COLLINS</td>\n",
       "    </tr>\n",
       "    <tr>\n",
       "      <th>2</th>\n",
       "      <td>28.479500</td>\n",
       "      <td>-81.472800</td>\n",
       "      <td>01000 UNIVERSAL STUDIOS PLAZA</td>\n",
       "    </tr>\n",
       "    <tr>\n",
       "      <th>3</th>\n",
       "      <td>34.108000</td>\n",
       "      <td>-84.163600</td>\n",
       "      <td>02500 BAGLEY  \"HURON ROOM\"</td>\n",
       "    </tr>\n",
       "    <tr>\n",
       "      <th>4</th>\n",
       "      <td>37.611200</td>\n",
       "      <td>-121.022800</td>\n",
       "      <td>00 PLYMOUTH RD/ ROBERSON</td>\n",
       "    </tr>\n",
       "    <tr>\n",
       "      <th>5</th>\n",
       "      <td>41.672700</td>\n",
       "      <td>-83.633500</td>\n",
       "      <td>02700 ISHA LAYE WAY</td>\n",
       "    </tr>\n",
       "    <tr>\n",
       "      <th>6</th>\n",
       "      <td>41.879952</td>\n",
       "      <td>-86.550059</td>\n",
       "      <td>14530  Vaughan Detroit, Michigan</td>\n",
       "    </tr>\n",
       "    <tr>\n",
       "      <th>7</th>\n",
       "      <td>41.914100</td>\n",
       "      <td>-83.397700</td>\n",
       "      <td>00100 E 2ND ST</td>\n",
       "    </tr>\n",
       "    <tr>\n",
       "      <th>8</th>\n",
       "      <td>41.914100</td>\n",
       "      <td>-83.397600</td>\n",
       "      <td>00100 E 2ND ST MONROE  MI MONROE COUNTY SHERIFFS</td>\n",
       "    </tr>\n",
       "    <tr>\n",
       "      <th>9</th>\n",
       "      <td>41.951000</td>\n",
       "      <td>-83.644900</td>\n",
       "      <td>00600 FIRST</td>\n",
       "    </tr>\n",
       "  </tbody>\n",
       "</table>\n",
       "</div>"
      ],
      "text/plain": [
       "         LAT        LONG                                           address\n",
       "0   0.000000    0.000000                        00 ANDOVER NEAR SEVEN MILE\n",
       "1  25.820100  -80.122600                                     04600 COLLINS\n",
       "2  28.479500  -81.472800                     01000 UNIVERSAL STUDIOS PLAZA\n",
       "3  34.108000  -84.163600                        02500 BAGLEY  \"HURON ROOM\"\n",
       "4  37.611200 -121.022800                          00 PLYMOUTH RD/ ROBERSON\n",
       "5  41.672700  -83.633500                               02700 ISHA LAYE WAY\n",
       "6  41.879952  -86.550059                  14530  Vaughan Detroit, Michigan\n",
       "7  41.914100  -83.397700                                    00100 E 2ND ST\n",
       "8  41.914100  -83.397600  00100 E 2ND ST MONROE  MI MONROE COUNTY SHERIFFS\n",
       "9  41.951000  -83.644900                                       00600 FIRST"
      ]
     },
     "execution_count": 60,
     "metadata": {},
     "output_type": "execute_result"
    }
   ],
   "source": [
    "loc_grouped.head(10)"
   ]
  },
  {
   "cell_type": "code",
   "execution_count": 61,
   "metadata": {},
   "outputs": [
    {
     "data": {
      "text/plain": [
       "(220766, 3)"
      ]
     },
     "execution_count": 61,
     "metadata": {},
     "output_type": "execute_result"
    }
   ],
   "source": [
    "loc_grouped.shape"
   ]
  },
  {
   "cell_type": "code",
   "execution_count": 62,
   "metadata": {},
   "outputs": [],
   "source": [
    "loc_grouped = loc_grouped[(loc_grouped['LAT']>40) & (loc_grouped['LAT']<44)]"
   ]
  },
  {
   "cell_type": "code",
   "execution_count": 63,
   "metadata": {},
   "outputs": [],
   "source": [
    "loc_grouped = loc_grouped[(loc_grouped['LONG']>-85)&(loc_grouped['LONG']<-80)]"
   ]
  },
  {
   "cell_type": "code",
   "execution_count": 64,
   "metadata": {},
   "outputs": [
    {
     "data": {
      "text/plain": [
       "(220743, 3)"
      ]
     },
     "execution_count": 64,
     "metadata": {},
     "output_type": "execute_result"
    }
   ],
   "source": [
    "loc_grouped.shape"
   ]
  },
  {
   "cell_type": "code",
   "execution_count": 65,
   "metadata": {},
   "outputs": [
    {
     "data": {
      "image/png": "[encoded data removed]",
      "text/plain": [
       "<Figure size 1440x216 with 1 Axes>"
      ]
     },
     "metadata": {
      "needs_background": "light"
     },
     "output_type": "display_data"
    }
   ],
   "source": [
    "plt.figure(figsize=(20,3))\n",
    "ax = sns.scatterplot('LAT','LONG',data=loc_grouped)"
   ]
  },
  {
   "cell_type": "code",
   "execution_count": 66,
   "metadata": {},
   "outputs": [
    {
     "name": "stdout",
     "output_type": "stream",
     "text": [
      "3761, Crosby Way, Westgate, Vulcan, Toledo, Lucas County, Ohio, 43606, United States of America\n",
      "Assembly of God Church, Washington Street, Monroe, Monroe County, Michigan, 48161, United States of America\n",
      "198, East 2nd Street, Monroe, Monroe County, Michigan, 48161, United States of America\n",
      "661, 1st Street, Dundee, Dundee Township, Monroe County, Michigan, 48131, United States of America\n"
     ]
    }
   ],
   "source": [
    "geolocator = Nominatim(user_agent=\"mylocator\")\n",
    "for point in loc_grouped.loc[loc_grouped['LAT']<42].iterrows():\n",
    "    point = point[1]\n",
    "    location = geolocator.reverse(str(point['LAT'])+\", \"+str(point['LONG']))\n",
    "    print(location.address)"
   ]
  },
  {
   "cell_type": "code",
   "execution_count": 67,
   "metadata": {},
   "outputs": [
    {
     "data": {
      "text/plain": [
       "(220743, 3)"
      ]
     },
     "execution_count": 67,
     "metadata": {},
     "output_type": "execute_result"
    }
   ],
   "source": [
    "loc_grouped.shape"
   ]
  },
  {
   "cell_type": "code",
   "execution_count": 68,
   "metadata": {},
   "outputs": [],
   "source": [
    "loc_grouped = loc_grouped[loc_grouped['LAT']>42]"
   ]
  },
  {
   "cell_type": "code",
   "execution_count": 69,
   "metadata": {},
   "outputs": [],
   "source": [
    "pt = loc_grouped.loc[loc_grouped['LONG']<-84]"
   ]
  },
  {
   "cell_type": "code",
   "execution_count": 70,
   "metadata": {},
   "outputs": [],
   "source": [
    "lat,lng= str(pt.values[0][0]), str(pt.values[0][1])"
   ]
  },
  {
   "cell_type": "code",
   "execution_count": 71,
   "metadata": {},
   "outputs": [
    {
     "data": {
      "text/plain": [
       "'652, East Drive, Marshall, Calhoun County, Michigan, 49068, United States of America'"
      ]
     },
     "execution_count": 71,
     "metadata": {},
     "output_type": "execute_result"
    }
   ],
   "source": [
    "location = geolocator.reverse(lat+\", \"+lng)\n",
    "location.address"
   ]
  },
  {
   "cell_type": "code",
   "execution_count": 72,
   "metadata": {},
   "outputs": [],
   "source": [
    "loc_grouped = loc_grouped.loc[loc_grouped['LONG']>-84]"
   ]
  },
  {
   "cell_type": "code",
   "execution_count": 73,
   "metadata": {},
   "outputs": [
    {
     "data": {
      "image/png": "[encoded data removed]",
      "text/plain": [
       "<Figure size 576x288 with 1 Axes>"
      ]
     },
     "metadata": {
      "needs_background": "light"
     },
     "output_type": "display_data"
    }
   ],
   "source": [
    "plt.figure(figsize=(8,4))\n",
    "ax = sns.scatterplot('LAT','LONG',data=loc_grouped)"
   ]
  },
  {
   "cell_type": "code",
   "execution_count": null,
   "metadata": {},
   "outputs": [],
   "source": [
    "from tqdm import tqdm_notebook as tqdm\n",
    "import time\n",
    "c = (42.3314, -83.0458) # detroit center approx.\n",
    "indexes = []\n",
    "count = 0\n",
    "loc_grouped['dist'] = np.sqrt(np.power(loc_grouped['LAT']-c[0],2) + np.power(loc_grouped['LONG']-c[1],2))\n",
    "loc_sorted = loc_grouped.sort_values('dist',ascending=False).head(math.ceil(.05*len(loc_grouped)))\n",
    "geopy.geocoders.options.default_timeout = 30\n",
    "georeverse = RateLimiter(geolocator.reverse, max_retries=50)\n",
    "for index,point in tqdm(loc_sorted.iterrows()):\n",
    "    location = georeverse(str(point['LAT'])+\", \"+str(point['LONG']))\n",
    "    if('detroit' not in location.address.lower()):\n",
    "        indexes.append(index)\n",
    "        count+=1        "
   ]
  },
  {
   "cell_type": "code",
   "execution_count": null,
   "metadata": {},
   "outputs": [],
   "source": [
    "indexes = np.array(indexes)\n",
    "f = open('./outliers.npy','wb')\n",
    "np.save(f,indexes)"
   ]
  },
  {
   "cell_type": "code",
   "execution_count": 74,
   "metadata": {},
   "outputs": [],
   "source": [
    "f = open('outliers.npy','rb')\n",
    "indexes = np.load(f)\n"
   ]
  },
  {
   "cell_type": "code",
   "execution_count": 75,
   "metadata": {},
   "outputs": [
    {
     "data": {
      "text/plain": [
       "220738"
      ]
     },
     "execution_count": 75,
     "metadata": {},
     "output_type": "execute_result"
    }
   ],
   "source": [
    "len(loc_grouped)"
   ]
  },
  {
   "cell_type": "code",
   "execution_count": 76,
   "metadata": {},
   "outputs": [],
   "source": [
    "loc_grouped.drop(indexes,axis=0,inplace=True)"
   ]
  },
  {
   "cell_type": "code",
   "execution_count": 77,
   "metadata": {},
   "outputs": [
    {
     "data": {
      "text/plain": [
       "220526"
      ]
     },
     "execution_count": 77,
     "metadata": {},
     "output_type": "execute_result"
    }
   ],
   "source": [
    "len(loc_grouped)"
   ]
  },
  {
   "cell_type": "markdown",
   "metadata": {},
   "source": [
    "# Clustering"
   ]
  },
  {
   "cell_type": "code",
   "execution_count": 78,
   "metadata": {},
   "outputs": [],
   "source": [
    "# def distance(pt1,pt2):\n",
    "#     lat1,lng1 = pt1[0]*np.pi/180 , pt1[1]*np.pi/180\n",
    "#     lat2,lng2 = pt2[0]*np.pi/180 , pt2[1]*np.pi/180\n",
    "#     deltay = lat2 - lat1\n",
    "#     deltax = (lng2-lng1)*np.cos((lat2+lat1)/2)\n",
    "#     R = 6371e3\n",
    "#     d = R*np.sqrt(np.power(deltax,2)+np.power(deltay,2))\n",
    "#     return d\n",
    "\n",
    "def distance(pt,c):\n",
    "    pt = pt*np.pi/180\n",
    "    c = c*np.pi/180\n",
    "    lat,lng = c.T[0],c.T[1]\n",
    "    deltay = lat - pt[0]\n",
    "    deltax = (lng - pt[1])*np.cos((lat+pt[0])/2)\n",
    "    R = 6371e3\n",
    "    d = R*np.sqrt(np.power(deltax,2)+np.power(deltay,2))\n",
    "    return d.min(), np.argmin(d)\n",
    "\n"
   ]
  },
  {
   "cell_type": "code",
   "execution_count": 79,
   "metadata": {},
   "outputs": [],
   "source": [
    "loc_grouped.reset_index(drop=True,inplace=True)"
   ]
  },
  {
   "cell_type": "code",
   "execution_count": 78,
   "metadata": {},
   "outputs": [
    {
     "data": {
      "text/plain": [
       "2713.5856160719904"
      ]
     },
     "execution_count": 78,
     "metadata": {},
     "output_type": "execute_result"
    }
   ],
   "source": [
    "distance((42.216800,-83.226700),(42.240100,-83.236500))"
   ]
  },
  {
   "cell_type": "code",
   "execution_count": 80,
   "metadata": {},
   "outputs": [],
   "source": [
    "points = np.array(loc_grouped[['LAT','LONG']])\n",
    "# points = points*(np.pi/180)"
   ]
  },
  {
   "cell_type": "code",
   "execution_count": 82,
   "metadata": {},
   "outputs": [],
   "source": [
    "#1. Find first k points such that min dist b/w any of them is maximized\n",
    "ids = np.random.randint(len(points),size=10000)\n",
    "subset = points[ids]\n",
    "# mat = pairwise_distances(subset,metric=distance)\n"
   ]
  },
  {
   "cell_type": "code",
   "execution_count": 85,
   "metadata": {},
   "outputs": [
    {
     "data": {
      "application/vnd.jupyter.widget-view+json": {
       "model_id": "49f4583eb40d460b98e069eb622f51b2",
       "version_major": 2,
       "version_minor": 0
      },
      "text/plain": [
       "HBox(children=(IntProgress(value=0, max=999), HTML(value='')))"
      ]
     },
     "metadata": {},
     "output_type": "display_data"
    },
    {
     "name": "stdout",
     "output_type": "stream",
     "text": [
      "\n"
     ]
    },
    {
     "name": "stderr",
     "output_type": "stream",
     "text": [
      "Exception in thread Thread-5:\n",
      "Traceback (most recent call last):\n",
      "  File \"/usr/lib/python3.6/threading.py\", line 916, in _bootstrap_inner\n",
      "    self.run()\n",
      "  File \"/home/ishaan/ishaan/lib/python3.6/site-packages/tqdm/_monitor.py\", line 62, in run\n",
      "    for instance in self.tqdm_cls._instances:\n",
      "  File \"/home/ishaan/ishaan/lib/python3.6/_weakrefset.py\", line 60, in __iter__\n",
      "    for itemref in self.data:\n",
      "RuntimeError: Set changed size during iteration\n",
      "\n"
     ]
    },
    {
     "name": "stdout",
     "output_type": "stream",
     "text": [
      "\n"
     ]
    }
   ],
   "source": [
    "c_i = [0]\n",
    "for count in tqdm(range(1,1000)):\n",
    "    maxd = 0\n",
    "    max_i = 0\n",
    "    for i in range(len(subset)):\n",
    "        if(i not in c_i):\n",
    "            dis = distance(subset[i],subset[c_i])\n",
    "            d , _ = dis[0],dis[1]\n",
    "            if(maxd<d):\n",
    "                maxd = d\n",
    "                max_i = i\n",
    "    c_i.append(max_i)"
   ]
  },
  {
   "cell_type": "code",
   "execution_count": 86,
   "metadata": {},
   "outputs": [
    {
     "data": {
      "text/plain": [
       "1000"
      ]
     },
     "execution_count": 86,
     "metadata": {},
     "output_type": "execute_result"
    }
   ],
   "source": [
    "len(c_i)"
   ]
  },
  {
   "cell_type": "code",
   "execution_count": 87,
   "metadata": {},
   "outputs": [],
   "source": [
    "pickle.dump(c_i,open('initial_centres.pkl','wb'))\n",
    "pickle.dump(ids,open('centre_ids','wb'))"
   ]
  },
  {
   "cell_type": "code",
   "execution_count": 103,
   "metadata": {},
   "outputs": [],
   "source": [
    "c_i = pickle.load(open('initial_centres.pkl','rb'))"
   ]
  },
  {
   "cell_type": "code",
   "execution_count": 92,
   "metadata": {},
   "outputs": [],
   "source": [
    "centres = ids[c_i]\n",
    "c_pt = list(points[centres])\n",
    "buildings = np.reshape(centres, (len(centres),1)).tolist()\n",
    "# f =open('cluster_data_100000.pkl','rb')\n",
    "# buildings = pickle.load(f)\n",
    "# f.close()\n",
    "# f=open('cluster_centers_100000.pkl','rb')\n",
    "# c_pt = pickle.load(f)\n",
    "# f.close()"
   ]
  },
  {
   "cell_type": "code",
   "execution_count": 93,
   "metadata": {},
   "outputs": [],
   "source": [
    "clustered = set([point for cluster in buildings for point in cluster])"
   ]
  },
  {
   "cell_type": "code",
   "execution_count": 94,
   "metadata": {},
   "outputs": [
    {
     "data": {
      "application/vnd.jupyter.widget-view+json": {
       "model_id": "b409eb4dfa3c432b8286656930da51fd",
       "version_major": 2,
       "version_minor": 0
      },
      "text/plain": [
       "HBox(children=(IntProgress(value=0, max=220526), HTML(value='')))"
      ]
     },
     "metadata": {},
     "output_type": "display_data"
    },
    {
     "name": "stdout",
     "output_type": "stream",
     "text": [
      "\n"
     ]
    }
   ],
   "source": [
    "for i in tqdm(range(len(points))):\n",
    "    pt = points[i]\n",
    "    if(i not in clustered):\n",
    "        min_d = np.inf\n",
    "        sel = 0\n",
    "#         for j,c in enumerate(c_pt):\n",
    "#             d = distance(pt,c)\n",
    "#             if(min_d>d):\n",
    "#                 min_d = d\n",
    "#                 sel = j\n",
    "        min_d,sel = distance(np.array(pt),np.array(c_pt))\n",
    "        if(min_d<=100):\n",
    "            buildings[sel].append(i)\n",
    "            cl = points[buildings[sel]]\n",
    "            newc = np.mean(cl,axis=0)\n",
    "            c_pt[sel] = newc\n",
    "        else:\n",
    "            c_pt.append(pt)\n",
    "            buildings.append([i])\n",
    "        if(i%10000==0):\n",
    "            f=open('./checkpoints/cluster_data_'+str(i)+'.pkl','wb')\n",
    "            pickle.dump(buildings,f)\n",
    "            f.close()\n",
    "            f=open('./checkpoints/cluster_centers_'+str(i)+'.pkl','wb')\n",
    "            pickle.dump(c_pt,f)\n",
    "            f.close()\n",
    "        \n",
    " "
   ]
  },
  {
   "cell_type": "code",
   "execution_count": 96,
   "metadata": {},
   "outputs": [],
   "source": [
    "c_pt = np.stack(c_pt,axis=0)"
   ]
  },
  {
   "cell_type": "code",
   "execution_count": 98,
   "metadata": {},
   "outputs": [
    {
     "data": {
      "text/plain": [
       "(13280, 2)"
      ]
     },
     "execution_count": 98,
     "metadata": {},
     "output_type": "execute_result"
    }
   ],
   "source": [
    "c_pt.shape"
   ]
  },
  {
   "cell_type": "code",
   "execution_count": 102,
   "metadata": {},
   "outputs": [],
   "source": [
    "pickle.dump(c_pt, open('centers_final.pkl','wb'))\n",
    "pickle.dump(buildings, open('clusters_final.pkl','wb'))"
   ]
  }
 ],
 "metadata": {
  "kernelspec": {
   "display_name": "Python 3",
   "language": "python",
   "name": "python3"
  },
  "language_info": {
   "codemirror_mode": {
    "name": "ipython",
    "version": 3
   },
   "file_extension": ".py",
   "mimetype": "text/x-python",
   "name": "python",
   "nbconvert_exporter": "python",
   "pygments_lexer": "ipython3",
   "version": "3.6.8"
  }
 },
 "nbformat": 4,
 "nbformat_minor": 2
}

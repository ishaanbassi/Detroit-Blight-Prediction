{
 "cells": [
  {
   "cell_type": "code",
   "execution_count": 57,
   "metadata": {},
   "outputs": [],
   "source": [
    "import matplotlib.pyplot as plt\n",
    "import pandas as pd\n",
    "import numpy as np\n",
    "import seaborn as sns\n",
    "import pickle\n",
    "from sklearn.linear_model import LogisticRegression\n",
    "from sklearn.model_selection import cross_validate"
   ]
  },
  {
   "cell_type": "code",
   "execution_count": 19,
   "metadata": {},
   "outputs": [
    {
     "name": "stderr",
     "output_type": "stream",
     "text": [
      "/home/ishaan/ishaan/lib/python3.6/site-packages/IPython/core/interactiveshell.py:3049: DtypeWarning: Columns (6,10,11,12) have mixed types. Specify dtype option on import or set low_memory=False.\n",
      "  interactivity=interactivity, compiler=compiler, result=result)\n"
     ]
    }
   ],
   "source": [
    "violations = pd.read_csv('data/violations.csv')\n",
    "trainlabels = pd.read_csv('data/train_labels.csv')"
   ]
  },
  {
   "cell_type": "code",
   "execution_count": 20,
   "metadata": {},
   "outputs": [
    {
     "data": {
      "text/html": [
       "<div>\n",
       "<style scoped>\n",
       "    .dataframe tbody tr th:only-of-type {\n",
       "        vertical-align: middle;\n",
       "    }\n",
       "\n",
       "    .dataframe tbody tr th {\n",
       "        vertical-align: top;\n",
       "    }\n",
       "\n",
       "    .dataframe thead th {\n",
       "        text-align: right;\n",
       "    }\n",
       "</style>\n",
       "<table border=\"1\" class=\"dataframe\">\n",
       "  <thead>\n",
       "    <tr style=\"text-align: right;\">\n",
       "      <th></th>\n",
       "      <th>TicketID</th>\n",
       "      <th>TicketNumber</th>\n",
       "      <th>AgencyName</th>\n",
       "      <th>ViolName</th>\n",
       "      <th>ViolationStreetNumber</th>\n",
       "      <th>ViolationStreetName</th>\n",
       "      <th>MailingStreetNumber</th>\n",
       "      <th>MailingStreetName</th>\n",
       "      <th>MailingCity</th>\n",
       "      <th>MailingState</th>\n",
       "      <th>...</th>\n",
       "      <th>CleanUpCost</th>\n",
       "      <th>JudgmentAmt</th>\n",
       "      <th>PaymentStatus</th>\n",
       "      <th>Void</th>\n",
       "      <th>ViolationCategory</th>\n",
       "      <th>ViolationAddress</th>\n",
       "      <th>MailingAddress</th>\n",
       "      <th>V_LAT</th>\n",
       "      <th>V_LONG</th>\n",
       "      <th>V_addr</th>\n",
       "    </tr>\n",
       "  </thead>\n",
       "  <tbody>\n",
       "    <tr>\n",
       "      <th>0</th>\n",
       "      <td>26288</td>\n",
       "      <td>05000001DAH</td>\n",
       "      <td>Department of Public Works</td>\n",
       "      <td>Group, LLC, Grand Holding</td>\n",
       "      <td>2566</td>\n",
       "      <td>GRAND BLVD</td>\n",
       "      <td>743</td>\n",
       "      <td>Beaubien, Ste. 201</td>\n",
       "      <td>Detroit</td>\n",
       "      <td>MI</td>\n",
       "      <td>...</td>\n",
       "      <td>$0.00</td>\n",
       "      <td>$1680.00</td>\n",
       "      <td>PAID IN FULL</td>\n",
       "      <td>0.0</td>\n",
       "      <td>0</td>\n",
       "      <td>2566 GRAND BLVD\\nDetroit, MI\\n(42.363182370000...</td>\n",
       "      <td>743 Beaubien\\nDetroit, MI 48226\\n(42.333730630...</td>\n",
       "      <td>42.363182</td>\n",
       "      <td>-83.091677</td>\n",
       "      <td>2566 GRAND BLVD,Detroit, MI</td>\n",
       "    </tr>\n",
       "    <tr>\n",
       "      <th>1</th>\n",
       "      <td>19800</td>\n",
       "      <td>05000025DAH</td>\n",
       "      <td>Department of Public Works</td>\n",
       "      <td>JACKSON, RAECHELLE</td>\n",
       "      <td>19014</td>\n",
       "      <td>ASHTON</td>\n",
       "      <td>20501</td>\n",
       "      <td>HEYDEN</td>\n",
       "      <td>DETROIT</td>\n",
       "      <td>MI</td>\n",
       "      <td>...</td>\n",
       "      <td>$0.00</td>\n",
       "      <td>$140.00</td>\n",
       "      <td>NO PAYMENT APPLIED</td>\n",
       "      <td>0.0</td>\n",
       "      <td>0</td>\n",
       "      <td>19014 ASHTON\\nDetroit, MI\\n(42.429390762000025...</td>\n",
       "      <td>20501 HEYDEN\\nDETROIT, MI 48219\\n(42.442177633...</td>\n",
       "      <td>42.429391</td>\n",
       "      <td>-83.220394</td>\n",
       "      <td>19014 ASHTON,Detroit, MI</td>\n",
       "    </tr>\n",
       "    <tr>\n",
       "      <th>2</th>\n",
       "      <td>19804</td>\n",
       "      <td>05000026DAH</td>\n",
       "      <td>Department of Public Works</td>\n",
       "      <td>TALTON, CAROL ANN</td>\n",
       "      <td>18735</td>\n",
       "      <td>STAHELIN</td>\n",
       "      <td>18735</td>\n",
       "      <td>STAHELI N</td>\n",
       "      <td>DETROIT</td>\n",
       "      <td>MI</td>\n",
       "      <td>...</td>\n",
       "      <td>$0.00</td>\n",
       "      <td>$140.00</td>\n",
       "      <td>PAID IN FULL</td>\n",
       "      <td>0.0</td>\n",
       "      <td>0</td>\n",
       "      <td>18735 STAHELIN\\nDetroit, MI\\n(42.4287074590000...</td>\n",
       "      <td>18735 STAHELI N\\nDETROIT, MI 48219\\n(42.428707...</td>\n",
       "      <td>42.428707</td>\n",
       "      <td>-83.227548</td>\n",
       "      <td>18735 STAHELIN,Detroit, MI</td>\n",
       "    </tr>\n",
       "    <tr>\n",
       "      <th>3</th>\n",
       "      <td>20208</td>\n",
       "      <td>05000027DAH</td>\n",
       "      <td>Department of Public Works</td>\n",
       "      <td>BONNER, DARRYL E.</td>\n",
       "      <td>20125</td>\n",
       "      <td>MONICA</td>\n",
       "      <td>25335</td>\n",
       "      <td>PEEKSKILL</td>\n",
       "      <td>SOUTHFIELD</td>\n",
       "      <td>MI</td>\n",
       "      <td>...</td>\n",
       "      <td>$0.00</td>\n",
       "      <td>$140.00</td>\n",
       "      <td>NO PAYMENT APPLIED</td>\n",
       "      <td>0.0</td>\n",
       "      <td>0</td>\n",
       "      <td>20125 MONICA\\nDetroit, MI\\n(42.44169828400004,...</td>\n",
       "      <td>25335 PEEKSKILL\\nSOUTHFIELD, MI 48043\\n(42.475...</td>\n",
       "      <td>42.441698</td>\n",
       "      <td>-83.145018</td>\n",
       "      <td>20125 MONICA,Detroit, MI</td>\n",
       "    </tr>\n",
       "    <tr>\n",
       "      <th>4</th>\n",
       "      <td>20211</td>\n",
       "      <td>05000028DAH</td>\n",
       "      <td>Department of Public Works</td>\n",
       "      <td>GREGORY, JAMES LEE</td>\n",
       "      <td>17397</td>\n",
       "      <td>PRAIRIE</td>\n",
       "      <td>17397</td>\n",
       "      <td>PRAIRIE</td>\n",
       "      <td>DETROIT</td>\n",
       "      <td>MI</td>\n",
       "      <td>...</td>\n",
       "      <td>$0.00</td>\n",
       "      <td>$140.00</td>\n",
       "      <td>PAID IN FULL</td>\n",
       "      <td>0.0</td>\n",
       "      <td>0</td>\n",
       "      <td>17397 PRAIRIE\\nDetroit, MI\\n(42.42031769500005...</td>\n",
       "      <td>17397 PRAIRIE\\nDETROIT, MI 48221\\n(42.42031769...</td>\n",
       "      <td>42.420318</td>\n",
       "      <td>-83.145328</td>\n",
       "      <td>17397 PRAIRIE,Detroit, MI</td>\n",
       "    </tr>\n",
       "  </tbody>\n",
       "</table>\n",
       "<p>5 rows × 34 columns</p>\n",
       "</div>"
      ],
      "text/plain": [
       "   TicketID TicketNumber                  AgencyName  \\\n",
       "0     26288  05000001DAH  Department of Public Works   \n",
       "1     19800  05000025DAH  Department of Public Works   \n",
       "2     19804  05000026DAH  Department of Public Works   \n",
       "3     20208  05000027DAH  Department of Public Works   \n",
       "4     20211  05000028DAH  Department of Public Works   \n",
       "\n",
       "                    ViolName  ViolationStreetNumber ViolationStreetName  \\\n",
       "0  Group, LLC, Grand Holding                   2566    GRAND BLVD         \n",
       "1        JACKSON, RAECHELLE                   19014    ASHTON             \n",
       "2          TALTON, CAROL ANN                  18735    STAHELIN           \n",
       "3          BONNER, DARRYL E.                  20125    MONICA             \n",
       "4         GREGORY, JAMES LEE                  17397    PRAIRIE            \n",
       "\n",
       "  MailingStreetNumber   MailingStreetName MailingCity MailingState  ...  \\\n",
       "0                 743  Beaubien, Ste. 201     Detroit           MI  ...   \n",
       "1               20501              HEYDEN     DETROIT           MI  ...   \n",
       "2               18735           STAHELI N     DETROIT           MI  ...   \n",
       "3               25335           PEEKSKILL  SOUTHFIELD           MI  ...   \n",
       "4               17397             PRAIRIE     DETROIT           MI  ...   \n",
       "\n",
       "  CleanUpCost JudgmentAmt       PaymentStatus Void ViolationCategory  \\\n",
       "0       $0.00    $1680.00        PAID IN FULL  0.0                 0   \n",
       "1       $0.00     $140.00  NO PAYMENT APPLIED  0.0                 0   \n",
       "2       $0.00     $140.00        PAID IN FULL  0.0                 0   \n",
       "3       $0.00     $140.00  NO PAYMENT APPLIED  0.0                 0   \n",
       "4       $0.00     $140.00        PAID IN FULL  0.0                 0   \n",
       "\n",
       "                                    ViolationAddress  \\\n",
       "0  2566 GRAND BLVD\\nDetroit, MI\\n(42.363182370000...   \n",
       "1  19014 ASHTON\\nDetroit, MI\\n(42.429390762000025...   \n",
       "2  18735 STAHELIN\\nDetroit, MI\\n(42.4287074590000...   \n",
       "3  20125 MONICA\\nDetroit, MI\\n(42.44169828400004,...   \n",
       "4  17397 PRAIRIE\\nDetroit, MI\\n(42.42031769500005...   \n",
       "\n",
       "                                      MailingAddress      V_LAT     V_LONG  \\\n",
       "0  743 Beaubien\\nDetroit, MI 48226\\n(42.333730630...  42.363182 -83.091677   \n",
       "1  20501 HEYDEN\\nDETROIT, MI 48219\\n(42.442177633...  42.429391 -83.220394   \n",
       "2  18735 STAHELI N\\nDETROIT, MI 48219\\n(42.428707...  42.428707 -83.227548   \n",
       "3  25335 PEEKSKILL\\nSOUTHFIELD, MI 48043\\n(42.475...  42.441698 -83.145018   \n",
       "4  17397 PRAIRIE\\nDETROIT, MI 48221\\n(42.42031769...  42.420318 -83.145328   \n",
       "\n",
       "                        V_addr  \n",
       "0  2566 GRAND BLVD,Detroit, MI  \n",
       "1     19014 ASHTON,Detroit, MI  \n",
       "2   18735 STAHELIN,Detroit, MI  \n",
       "3     20125 MONICA,Detroit, MI  \n",
       "4    17397 PRAIRIE,Detroit, MI  \n",
       "\n",
       "[5 rows x 34 columns]"
      ]
     },
     "execution_count": 20,
     "metadata": {},
     "output_type": "execute_result"
    }
   ],
   "source": [
    "violations.head()"
   ]
  },
  {
   "cell_type": "code",
   "execution_count": 21,
   "metadata": {},
   "outputs": [
    {
     "data": {
      "text/html": [
       "<div>\n",
       "<style scoped>\n",
       "    .dataframe tbody tr th:only-of-type {\n",
       "        vertical-align: middle;\n",
       "    }\n",
       "\n",
       "    .dataframe tbody tr th {\n",
       "        vertical-align: top;\n",
       "    }\n",
       "\n",
       "    .dataframe thead th {\n",
       "        text-align: right;\n",
       "    }\n",
       "</style>\n",
       "<table border=\"1\" class=\"dataframe\">\n",
       "  <thead>\n",
       "    <tr style=\"text-align: right;\">\n",
       "      <th></th>\n",
       "      <th>building_id</th>\n",
       "      <th>LAT</th>\n",
       "      <th>LONG</th>\n",
       "      <th>label</th>\n",
       "    </tr>\n",
       "  </thead>\n",
       "  <tbody>\n",
       "    <tr>\n",
       "      <th>0</th>\n",
       "      <td>4</td>\n",
       "      <td>42.433953</td>\n",
       "      <td>-83.098835</td>\n",
       "      <td>blighted</td>\n",
       "    </tr>\n",
       "    <tr>\n",
       "      <th>1</th>\n",
       "      <td>6</td>\n",
       "      <td>42.335282</td>\n",
       "      <td>-83.072696</td>\n",
       "      <td>blighted</td>\n",
       "    </tr>\n",
       "    <tr>\n",
       "      <th>2</th>\n",
       "      <td>9</td>\n",
       "      <td>42.389837</td>\n",
       "      <td>-83.019746</td>\n",
       "      <td>blighted</td>\n",
       "    </tr>\n",
       "    <tr>\n",
       "      <th>3</th>\n",
       "      <td>11</td>\n",
       "      <td>42.329588</td>\n",
       "      <td>-83.156621</td>\n",
       "      <td>blighted</td>\n",
       "    </tr>\n",
       "    <tr>\n",
       "      <th>4</th>\n",
       "      <td>14</td>\n",
       "      <td>42.411072</td>\n",
       "      <td>-82.913786</td>\n",
       "      <td>blighted</td>\n",
       "    </tr>\n",
       "  </tbody>\n",
       "</table>\n",
       "</div>"
      ],
      "text/plain": [
       "   building_id        LAT       LONG     label\n",
       "0            4  42.433953 -83.098835  blighted\n",
       "1            6  42.335282 -83.072696  blighted\n",
       "2            9  42.389837 -83.019746  blighted\n",
       "3           11  42.329588 -83.156621  blighted\n",
       "4           14  42.411072 -82.913786  blighted"
      ]
     },
     "execution_count": 21,
     "metadata": {},
     "output_type": "execute_result"
    }
   ],
   "source": [
    "trainlabels.head()"
   ]
  },
  {
   "cell_type": "code",
   "execution_count": 41,
   "metadata": {},
   "outputs": [
    {
     "data": {
      "text/plain": [
       "9"
      ]
     },
     "execution_count": 41,
     "metadata": {},
     "output_type": "execute_result"
    }
   ],
   "source": [
    "trainlabels.loc[2,'building_id']"
   ]
  },
  {
   "cell_type": "code",
   "execution_count": 42,
   "metadata": {},
   "outputs": [],
   "source": [
    "def distance(pt,c):\n",
    "    pt = pt*np.pi/180\n",
    "    c = c*np.pi/180\n",
    "    lat,lng = c.T[0],c.T[1]\n",
    "    deltay = lat - pt[0]\n",
    "    deltax = (lng - pt[1])*np.cos((lat+pt[0])/2)\n",
    "    R = 6371e3\n",
    "    d = R*np.sqrt(np.power(deltax,2)+np.power(deltay,2))\n",
    "    return d.min(), np.argmin(d)\n",
    "\n",
    "def findbuilding(row,buildings):\n",
    "    lat,long = row['V_LAT'],row['V_LONG']\n",
    "    dis, b_id = distance(np.array([lat,long]),np.array(buildings[['LAT','LONG']]))\n",
    "    if(dis<=100):\n",
    "        return buildings.loc[b_id,'building_id']\n",
    "    else:\n",
    "        return np.nan"
   ]
  },
  {
   "cell_type": "code",
   "execution_count": 43,
   "metadata": {},
   "outputs": [],
   "source": [
    "violations['building_id'] = violations.apply(lambda row: findbuilding(row,trainlabels),axis=1)"
   ]
  },
  {
   "cell_type": "code",
   "execution_count": 44,
   "metadata": {},
   "outputs": [],
   "source": [
    "violationcounts =  violations.dropna(axis=0,subset=['building_id']).groupby('building_id').size()"
   ]
  },
  {
   "cell_type": "code",
   "execution_count": 45,
   "metadata": {},
   "outputs": [],
   "source": [
    "violationcounts = pd.DataFrame(violationcounts)"
   ]
  },
  {
   "cell_type": "code",
   "execution_count": 46,
   "metadata": {},
   "outputs": [],
   "source": [
    "violationcounts = violationcounts.rename(columns = {0:\"count\"})"
   ]
  },
  {
   "cell_type": "code",
   "execution_count": 47,
   "metadata": {},
   "outputs": [],
   "source": [
    "violationcounts.reset_index(inplace=True)"
   ]
  },
  {
   "cell_type": "code",
   "execution_count": 48,
   "metadata": {},
   "outputs": [],
   "source": [
    "violationcounts = violationcounts.astype(int)"
   ]
  },
  {
   "cell_type": "code",
   "execution_count": 52,
   "metadata": {},
   "outputs": [
    {
     "data": {
      "text/html": [
       "<div>\n",
       "<style scoped>\n",
       "    .dataframe tbody tr th:only-of-type {\n",
       "        vertical-align: middle;\n",
       "    }\n",
       "\n",
       "    .dataframe tbody tr th {\n",
       "        vertical-align: top;\n",
       "    }\n",
       "\n",
       "    .dataframe thead th {\n",
       "        text-align: right;\n",
       "    }\n",
       "</style>\n",
       "<table border=\"1\" class=\"dataframe\">\n",
       "  <thead>\n",
       "    <tr style=\"text-align: right;\">\n",
       "      <th></th>\n",
       "      <th>building_id</th>\n",
       "      <th>count</th>\n",
       "    </tr>\n",
       "  </thead>\n",
       "  <tbody>\n",
       "    <tr>\n",
       "      <th>0</th>\n",
       "      <td>2</td>\n",
       "      <td>1</td>\n",
       "    </tr>\n",
       "    <tr>\n",
       "      <th>1</th>\n",
       "      <td>4</td>\n",
       "      <td>66</td>\n",
       "    </tr>\n",
       "    <tr>\n",
       "      <th>2</th>\n",
       "      <td>6</td>\n",
       "      <td>18</td>\n",
       "    </tr>\n",
       "    <tr>\n",
       "      <th>3</th>\n",
       "      <td>9</td>\n",
       "      <td>17</td>\n",
       "    </tr>\n",
       "    <tr>\n",
       "      <th>4</th>\n",
       "      <td>11</td>\n",
       "      <td>89</td>\n",
       "    </tr>\n",
       "  </tbody>\n",
       "</table>\n",
       "</div>"
      ],
      "text/plain": [
       "   building_id  count\n",
       "0            2      1\n",
       "1            4     66\n",
       "2            6     18\n",
       "3            9     17\n",
       "4           11     89"
      ]
     },
     "execution_count": 52,
     "metadata": {},
     "output_type": "execute_result"
    }
   ],
   "source": [
    "violationcounts.head()"
   ]
  },
  {
   "cell_type": "code",
   "execution_count": 55,
   "metadata": {},
   "outputs": [],
   "source": [
    "violationcounts = violationcounts.merge(trainlabels,on='building_id')"
   ]
  },
  {
   "cell_type": "code",
   "execution_count": 56,
   "metadata": {},
   "outputs": [
    {
     "data": {
      "text/html": [
       "<div>\n",
       "<style scoped>\n",
       "    .dataframe tbody tr th:only-of-type {\n",
       "        vertical-align: middle;\n",
       "    }\n",
       "\n",
       "    .dataframe tbody tr th {\n",
       "        vertical-align: top;\n",
       "    }\n",
       "\n",
       "    .dataframe thead th {\n",
       "        text-align: right;\n",
       "    }\n",
       "</style>\n",
       "<table border=\"1\" class=\"dataframe\">\n",
       "  <thead>\n",
       "    <tr style=\"text-align: right;\">\n",
       "      <th></th>\n",
       "      <th>building_id</th>\n",
       "      <th>count</th>\n",
       "      <th>LAT</th>\n",
       "      <th>LONG</th>\n",
       "      <th>label</th>\n",
       "    </tr>\n",
       "  </thead>\n",
       "  <tbody>\n",
       "    <tr>\n",
       "      <th>0</th>\n",
       "      <td>2</td>\n",
       "      <td>1</td>\n",
       "      <td>42.442180</td>\n",
       "      <td>-83.285080</td>\n",
       "      <td>not_blighted</td>\n",
       "    </tr>\n",
       "    <tr>\n",
       "      <th>1</th>\n",
       "      <td>4</td>\n",
       "      <td>66</td>\n",
       "      <td>42.433953</td>\n",
       "      <td>-83.098835</td>\n",
       "      <td>blighted</td>\n",
       "    </tr>\n",
       "    <tr>\n",
       "      <th>2</th>\n",
       "      <td>6</td>\n",
       "      <td>18</td>\n",
       "      <td>42.335282</td>\n",
       "      <td>-83.072696</td>\n",
       "      <td>blighted</td>\n",
       "    </tr>\n",
       "    <tr>\n",
       "      <th>3</th>\n",
       "      <td>9</td>\n",
       "      <td>17</td>\n",
       "      <td>42.389837</td>\n",
       "      <td>-83.019746</td>\n",
       "      <td>blighted</td>\n",
       "    </tr>\n",
       "    <tr>\n",
       "      <th>4</th>\n",
       "      <td>11</td>\n",
       "      <td>89</td>\n",
       "      <td>42.329588</td>\n",
       "      <td>-83.156621</td>\n",
       "      <td>blighted</td>\n",
       "    </tr>\n",
       "  </tbody>\n",
       "</table>\n",
       "</div>"
      ],
      "text/plain": [
       "   building_id  count        LAT       LONG         label\n",
       "0            2      1  42.442180 -83.285080  not_blighted\n",
       "1            4     66  42.433953 -83.098835      blighted\n",
       "2            6     18  42.335282 -83.072696      blighted\n",
       "3            9     17  42.389837 -83.019746      blighted\n",
       "4           11     89  42.329588 -83.156621      blighted"
      ]
     },
     "execution_count": 56,
     "metadata": {},
     "output_type": "execute_result"
    }
   ],
   "source": [
    "violationcounts.head()"
   ]
  },
  {
   "cell_type": "code",
   "execution_count": 67,
   "metadata": {},
   "outputs": [],
   "source": [
    "X = np.array(violationcounts['count']).reshape(-1,1)\n",
    "model = LogisticRegression(solver='lbfgs')\n",
    "results = cross_validate(model,X,violationcounts['label'],cv=5)"
   ]
  },
  {
   "cell_type": "code",
   "execution_count": 68,
   "metadata": {},
   "outputs": [
    {
     "data": {
      "text/plain": [
       "{'fit_time': array([0.23099232, 0.01994944, 0.01839137, 0.01759338, 0.01752949]),\n",
       " 'score_time': array([0.0041101 , 0.00235724, 0.00239038, 0.00238299, 0.00233531]),\n",
       " 'test_score': array([0.59790941, 0.54425087, 0.56376307, 0.61881533, 0.62787456])}"
      ]
     },
     "execution_count": 68,
     "metadata": {},
     "output_type": "execute_result"
    }
   ],
   "source": [
    "results"
   ]
  },
  {
   "cell_type": "code",
   "execution_count": null,
   "metadata": {},
   "outputs": [],
   "source": []
  }
 ],
 "metadata": {
  "kernelspec": {
   "display_name": "Python 3",
   "language": "python",
   "name": "python3"
  },
  "language_info": {
   "codemirror_mode": {
    "name": "ipython",
    "version": 3
   },
   "file_extension": ".py",
   "mimetype": "text/x-python",
   "name": "python",
   "nbconvert_exporter": "python",
   "pygments_lexer": "ipython3",
   "version": "3.6.8"
  }
 },
 "nbformat": 4,
 "nbformat_minor": 2
}
